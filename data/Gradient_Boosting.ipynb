{
  "nbformat": 4,
  "nbformat_minor": 0,
  "metadata": {
    "colab": {
      "provenance": []
    },
    "kernelspec": {
      "name": "python3",
      "display_name": "Python 3"
    },
    "language_info": {
      "name": "python"
    }
  },
  "cells": [
    {
      "cell_type": "code",
      "execution_count": 47,
      "metadata": {
        "id": "-VBdewk7gYQk"
      },
      "outputs": [],
      "source": [
        "from sklearn.ensemble import GradientBoostingClassifier\n",
        "from sklearn import tree\n",
        "from sklearn.model_selection import GridSearchCV\n",
        "import numpy as np\n",
        "import pandas as pd\n",
        "from sklearn.model_selection import cross_val_score\n",
        "from sklearn.model_selection import KFold\n",
        "import matplotlib.pylab as plt\n",
        "import seaborn as sns\n",
        "from sklearn.preprocessing import LabelEncoder\n",
        "from sklearn.model_selection import train_test_split\n",
        "from sklearn.linear_model import LogisticRegression\n",
        "from sklearn.ensemble import RandomForestClassifier\n",
        "from sklearn.model_selection import GridSearchCV\n",
        "from sklearn.metrics import accuracy_score, classification_report, confusion_matrix"
      ]
    },
    {
      "cell_type": "code",
      "source": [
        "from google.colab import drive"
      ],
      "metadata": {
        "id": "iJtPcNNKW0Mi"
      },
      "execution_count": 48,
      "outputs": []
    },
    {
      "cell_type": "code",
      "source": [
        "drive.mount('/content/drive')"
      ],
      "metadata": {
        "colab": {
          "base_uri": "https://localhost:8080/"
        },
        "id": "zApfFrs_W0du",
        "outputId": "e3930b27-4532-4ed0-9752-823c6c06123f"
      },
      "execution_count": 49,
      "outputs": [
        {
          "output_type": "stream",
          "name": "stdout",
          "text": [
            "Drive already mounted at /content/drive; to attempt to forcibly remount, call drive.mount(\"/content/drive\", force_remount=True).\n"
          ]
        }
      ]
    },
    {
      "cell_type": "code",
      "source": [
        "nfl_draft_raw = pd.read_csv('/content/drive/MyDrive/nfl_draft_2014_2024.csv', index_col=False)\n",
        "college_passing_raw = pd.read_csv('/content/drive/MyDrive/college_passing_data_v3.csv', index_col=False)\n",
        "college_rushing_raw = pd.read_csv('/content/drive/MyDrive/college_rushing_data_v3.csv', index_col=False)\n",
        "college_receiving_raw = pd.read_csv('/content/drive/MyDrive/college_receiving_data_v3.csv', index_col=False)\n"
      ],
      "metadata": {
        "id": "rGZVoijxU0lN"
      },
      "execution_count": 50,
      "outputs": []
    },
    {
      "cell_type": "code",
      "source": [
        "# Re-label Conference and Division values for each player to be the most recent/last conference they played in #\n",
        "college_passing_raw['Season'] = college_passing_raw['Season'].astype(int)\n",
        "college_rushing_raw['Season'] = college_rushing_raw['Season'].astype(int)\n",
        "college_receiving_raw['Season'] = college_receiving_raw['Season'].astype(int)"
      ],
      "metadata": {
        "id": "MMwF35jIXATx"
      },
      "execution_count": 51,
      "outputs": []
    },
    {
      "cell_type": "code",
      "source": [
        "# Group by 'Player' and get the row with maximum 'Season' for each player\n",
        "max_season_index_passing = college_passing_raw.groupby('Player')['Season'].idxmax()\n",
        "max_season_index_rushing = college_rushing_raw.groupby('Player')['Season'].idxmax()\n",
        "max_season_index_receiving = college_receiving_raw.groupby('Player')['Season'].idxmax()"
      ],
      "metadata": {
        "id": "OLfRsuyDfN68"
      },
      "execution_count": 52,
      "outputs": []
    },
    {
      "cell_type": "code",
      "source": [
        "# Create a dictionary to map player names to their most recent conferences and divisions\n",
        "player_conference_map_passing = college_passing_raw.loc[max_season_index_passing].set_index('Player')['Conference'].to_dict()\n",
        "player_division_map_passing = college_passing_raw.loc[max_season_index_passing].set_index('Player')['Division'].to_dict()\n",
        "player_power5_map_passing = college_passing_raw.loc[max_season_index_passing].set_index('Player')['Power5'].to_dict()\n",
        "player_school_map_passing = college_passing_raw.loc[max_season_index_passing].set_index('Player')['School'].to_dict()\n",
        "\n",
        "player_conference_map_rushing = college_rushing_raw.loc[max_season_index_rushing].set_index('Player')['Conference'].to_dict()\n",
        "player_division_map_rushing = college_rushing_raw.loc[max_season_index_rushing].set_index('Player')['Division'].to_dict()\n",
        "player_power5_map_rushing = college_rushing_raw.loc[max_season_index_rushing].set_index('Player')['Power5'].to_dict()\n",
        "player_school_map_rushing = college_rushing_raw.loc[max_season_index_rushing].set_index('Player')['School'].to_dict()\n",
        "\n",
        "player_conference_map_receiving = college_receiving_raw.loc[max_season_index_receiving].set_index('Player')['Conference'].to_dict()\n",
        "player_division_map_receiving = college_receiving_raw.loc[max_season_index_receiving].set_index('Player')['Division'].to_dict()\n",
        "player_power5_map_receiving = college_receiving_raw.loc[max_season_index_receiving].set_index('Player')['Power5'].to_dict()\n",
        "player_school_map_receiving = college_receiving_raw.loc[max_season_index_receiving].set_index('Player')['School'].to_dict()\n"
      ],
      "metadata": {
        "id": "_c9TphiWfRKu"
      },
      "execution_count": 53,
      "outputs": []
    },
    {
      "cell_type": "code",
      "source": [
        "# Update 'Conference' and 'Division' columns based on the mapping\n",
        "college_passing_raw['Conference'] = college_passing_raw['Player'].map(player_conference_map_passing)\n",
        "college_passing_raw['Division'] = college_passing_raw['Player'].map(player_division_map_passing)\n",
        "college_passing_raw['Power5'] = college_passing_raw['Player'].map(player_power5_map_passing)\n",
        "college_passing_raw['School'] = college_passing_raw['Player'].map(player_school_map_passing)\n",
        "\n",
        "college_rushing_raw['Conference'] = college_rushing_raw['Player'].map(player_conference_map_rushing)\n",
        "college_rushing_raw['Division'] = college_rushing_raw['Player'].map(player_division_map_rushing)\n",
        "college_rushing_raw['Power5'] = college_rushing_raw['Player'].map(player_power5_map_rushing)\n",
        "college_rushing_raw['School'] = college_rushing_raw['Player'].map(player_school_map_rushing)\n",
        "\n",
        "college_receiving_raw['Conference'] = college_receiving_raw['Player'].map(player_conference_map_receiving)\n",
        "college_receiving_raw['Division'] = college_receiving_raw['Player'].map(player_division_map_receiving)\n",
        "college_receiving_raw['Power5'] = college_receiving_raw['Player'].map(player_power5_map_receiving)\n",
        "college_receiving_raw['School'] = college_receiving_raw['Player'].map(player_school_map_receiving)\n"
      ],
      "metadata": {
        "id": "upCLenSlfWE0"
      },
      "execution_count": 54,
      "outputs": []
    },
    {
      "cell_type": "code",
      "source": [
        "display(college_passing_raw)\n",
        "display(college_rushing_raw)\n",
        "display(college_receiving_raw)"
      ],
      "metadata": {
        "colab": {
          "base_uri": "https://localhost:8080/",
          "height": 1000
        },
        "id": "iTDLb-okgR5u",
        "outputId": "f3369ecc-c63f-4196-81b5-c2d8aa5c4efb"
      },
      "execution_count": 55,
      "outputs": [
        {
          "output_type": "display_data",
          "data": {
            "text/plain": [
              "      Season  Rank          Player            School Power5       Conference  \\\n",
              "0       2013   108  A.J. Augustine               VMI      N        Big South   \n",
              "1       2013   116      A.J. Doyle     Massachusetts      N              MAC   \n",
              "2       2013    30   A.J. McCarron           Alabama      Y              SEC   \n",
              "3       2014   123     A.J. Schurr   Army West Point      N  FBS Independent   \n",
              "4       2023    37     Aaron Allen            Alcorn      N             SWAC   \n",
              "...      ...   ...             ...               ...    ...              ...   \n",
              "3025    2021    37    Zevi Eckhaus            Bryant      N              OVC   \n",
              "3026    2022   114     Zion Turner             UConn      N  FBS Independent   \n",
              "3027    2020    10       Zion Webb  Jacksonville St.      N             ASUN   \n",
              "3028    2022    72       Zion Webb  Jacksonville St.      N             ASUN   \n",
              "3029    2018   118       Zion Webb  Jacksonville St.      N             ASUN   \n",
              "\n",
              "     Division   Cl Pos   G  Pass Att  Pass Com  Int  Pass TD  Pass Yds  \n",
              "0         FCS  Sr.  QB  11       158        93    7        9      1149  \n",
              "1         FBS  So.  QB  11       235       128   11        6      1274  \n",
              "2         FBS  Sr.  QB  13       336       226    7       28      3063  \n",
              "3         FBS  Jr.  QB  10        28        12    1        1       242  \n",
              "4         FCS  Sr.  QB  11       302       193    6       15      2323  \n",
              "...       ...  ...  ..  ..       ...       ...  ...      ...       ...  \n",
              "3025      FCS  Fr.  QB  11       370       232    3       21      2378  \n",
              "3026      FBS  Fr.  QB  13       258       149   10        9      1407  \n",
              "3027      FCS  Jr.  QB  12       205       120    8       13      1777  \n",
              "3028      FCS  Sr.  QB  11       201       111    9       10      1737  \n",
              "3029      FCS  So.  QB  10        61        34    1        5       444  \n",
              "\n",
              "[3030 rows x 15 columns]"
            ],
            "text/html": [
              "\n",
              "  <div id=\"df-cf72e2de-8cfc-4645-be91-4809f74c89af\" class=\"colab-df-container\">\n",
              "    <div>\n",
              "<style scoped>\n",
              "    .dataframe tbody tr th:only-of-type {\n",
              "        vertical-align: middle;\n",
              "    }\n",
              "\n",
              "    .dataframe tbody tr th {\n",
              "        vertical-align: top;\n",
              "    }\n",
              "\n",
              "    .dataframe thead th {\n",
              "        text-align: right;\n",
              "    }\n",
              "</style>\n",
              "<table border=\"1\" class=\"dataframe\">\n",
              "  <thead>\n",
              "    <tr style=\"text-align: right;\">\n",
              "      <th></th>\n",
              "      <th>Season</th>\n",
              "      <th>Rank</th>\n",
              "      <th>Player</th>\n",
              "      <th>School</th>\n",
              "      <th>Power5</th>\n",
              "      <th>Conference</th>\n",
              "      <th>Division</th>\n",
              "      <th>Cl</th>\n",
              "      <th>Pos</th>\n",
              "      <th>G</th>\n",
              "      <th>Pass Att</th>\n",
              "      <th>Pass Com</th>\n",
              "      <th>Int</th>\n",
              "      <th>Pass TD</th>\n",
              "      <th>Pass Yds</th>\n",
              "    </tr>\n",
              "  </thead>\n",
              "  <tbody>\n",
              "    <tr>\n",
              "      <th>0</th>\n",
              "      <td>2013</td>\n",
              "      <td>108</td>\n",
              "      <td>A.J. Augustine</td>\n",
              "      <td>VMI</td>\n",
              "      <td>N</td>\n",
              "      <td>Big South</td>\n",
              "      <td>FCS</td>\n",
              "      <td>Sr.</td>\n",
              "      <td>QB</td>\n",
              "      <td>11</td>\n",
              "      <td>158</td>\n",
              "      <td>93</td>\n",
              "      <td>7</td>\n",
              "      <td>9</td>\n",
              "      <td>1149</td>\n",
              "    </tr>\n",
              "    <tr>\n",
              "      <th>1</th>\n",
              "      <td>2013</td>\n",
              "      <td>116</td>\n",
              "      <td>A.J. Doyle</td>\n",
              "      <td>Massachusetts</td>\n",
              "      <td>N</td>\n",
              "      <td>MAC</td>\n",
              "      <td>FBS</td>\n",
              "      <td>So.</td>\n",
              "      <td>QB</td>\n",
              "      <td>11</td>\n",
              "      <td>235</td>\n",
              "      <td>128</td>\n",
              "      <td>11</td>\n",
              "      <td>6</td>\n",
              "      <td>1274</td>\n",
              "    </tr>\n",
              "    <tr>\n",
              "      <th>2</th>\n",
              "      <td>2013</td>\n",
              "      <td>30</td>\n",
              "      <td>A.J. McCarron</td>\n",
              "      <td>Alabama</td>\n",
              "      <td>Y</td>\n",
              "      <td>SEC</td>\n",
              "      <td>FBS</td>\n",
              "      <td>Sr.</td>\n",
              "      <td>QB</td>\n",
              "      <td>13</td>\n",
              "      <td>336</td>\n",
              "      <td>226</td>\n",
              "      <td>7</td>\n",
              "      <td>28</td>\n",
              "      <td>3063</td>\n",
              "    </tr>\n",
              "    <tr>\n",
              "      <th>3</th>\n",
              "      <td>2014</td>\n",
              "      <td>123</td>\n",
              "      <td>A.J. Schurr</td>\n",
              "      <td>Army West Point</td>\n",
              "      <td>N</td>\n",
              "      <td>FBS Independent</td>\n",
              "      <td>FBS</td>\n",
              "      <td>Jr.</td>\n",
              "      <td>QB</td>\n",
              "      <td>10</td>\n",
              "      <td>28</td>\n",
              "      <td>12</td>\n",
              "      <td>1</td>\n",
              "      <td>1</td>\n",
              "      <td>242</td>\n",
              "    </tr>\n",
              "    <tr>\n",
              "      <th>4</th>\n",
              "      <td>2023</td>\n",
              "      <td>37</td>\n",
              "      <td>Aaron Allen</td>\n",
              "      <td>Alcorn</td>\n",
              "      <td>N</td>\n",
              "      <td>SWAC</td>\n",
              "      <td>FCS</td>\n",
              "      <td>Sr.</td>\n",
              "      <td>QB</td>\n",
              "      <td>11</td>\n",
              "      <td>302</td>\n",
              "      <td>193</td>\n",
              "      <td>6</td>\n",
              "      <td>15</td>\n",
              "      <td>2323</td>\n",
              "    </tr>\n",
              "    <tr>\n",
              "      <th>...</th>\n",
              "      <td>...</td>\n",
              "      <td>...</td>\n",
              "      <td>...</td>\n",
              "      <td>...</td>\n",
              "      <td>...</td>\n",
              "      <td>...</td>\n",
              "      <td>...</td>\n",
              "      <td>...</td>\n",
              "      <td>...</td>\n",
              "      <td>...</td>\n",
              "      <td>...</td>\n",
              "      <td>...</td>\n",
              "      <td>...</td>\n",
              "      <td>...</td>\n",
              "      <td>...</td>\n",
              "    </tr>\n",
              "    <tr>\n",
              "      <th>3025</th>\n",
              "      <td>2021</td>\n",
              "      <td>37</td>\n",
              "      <td>Zevi Eckhaus</td>\n",
              "      <td>Bryant</td>\n",
              "      <td>N</td>\n",
              "      <td>OVC</td>\n",
              "      <td>FCS</td>\n",
              "      <td>Fr.</td>\n",
              "      <td>QB</td>\n",
              "      <td>11</td>\n",
              "      <td>370</td>\n",
              "      <td>232</td>\n",
              "      <td>3</td>\n",
              "      <td>21</td>\n",
              "      <td>2378</td>\n",
              "    </tr>\n",
              "    <tr>\n",
              "      <th>3026</th>\n",
              "      <td>2022</td>\n",
              "      <td>114</td>\n",
              "      <td>Zion Turner</td>\n",
              "      <td>UConn</td>\n",
              "      <td>N</td>\n",
              "      <td>FBS Independent</td>\n",
              "      <td>FBS</td>\n",
              "      <td>Fr.</td>\n",
              "      <td>QB</td>\n",
              "      <td>13</td>\n",
              "      <td>258</td>\n",
              "      <td>149</td>\n",
              "      <td>10</td>\n",
              "      <td>9</td>\n",
              "      <td>1407</td>\n",
              "    </tr>\n",
              "    <tr>\n",
              "      <th>3027</th>\n",
              "      <td>2020</td>\n",
              "      <td>10</td>\n",
              "      <td>Zion Webb</td>\n",
              "      <td>Jacksonville St.</td>\n",
              "      <td>N</td>\n",
              "      <td>ASUN</td>\n",
              "      <td>FCS</td>\n",
              "      <td>Jr.</td>\n",
              "      <td>QB</td>\n",
              "      <td>12</td>\n",
              "      <td>205</td>\n",
              "      <td>120</td>\n",
              "      <td>8</td>\n",
              "      <td>13</td>\n",
              "      <td>1777</td>\n",
              "    </tr>\n",
              "    <tr>\n",
              "      <th>3028</th>\n",
              "      <td>2022</td>\n",
              "      <td>72</td>\n",
              "      <td>Zion Webb</td>\n",
              "      <td>Jacksonville St.</td>\n",
              "      <td>N</td>\n",
              "      <td>ASUN</td>\n",
              "      <td>FCS</td>\n",
              "      <td>Sr.</td>\n",
              "      <td>QB</td>\n",
              "      <td>11</td>\n",
              "      <td>201</td>\n",
              "      <td>111</td>\n",
              "      <td>9</td>\n",
              "      <td>10</td>\n",
              "      <td>1737</td>\n",
              "    </tr>\n",
              "    <tr>\n",
              "      <th>3029</th>\n",
              "      <td>2018</td>\n",
              "      <td>118</td>\n",
              "      <td>Zion Webb</td>\n",
              "      <td>Jacksonville St.</td>\n",
              "      <td>N</td>\n",
              "      <td>ASUN</td>\n",
              "      <td>FCS</td>\n",
              "      <td>So.</td>\n",
              "      <td>QB</td>\n",
              "      <td>10</td>\n",
              "      <td>61</td>\n",
              "      <td>34</td>\n",
              "      <td>1</td>\n",
              "      <td>5</td>\n",
              "      <td>444</td>\n",
              "    </tr>\n",
              "  </tbody>\n",
              "</table>\n",
              "<p>3030 rows × 15 columns</p>\n",
              "</div>\n",
              "    <div class=\"colab-df-buttons\">\n",
              "\n",
              "  <div class=\"colab-df-container\">\n",
              "    <button class=\"colab-df-convert\" onclick=\"convertToInteractive('df-cf72e2de-8cfc-4645-be91-4809f74c89af')\"\n",
              "            title=\"Convert this dataframe to an interactive table.\"\n",
              "            style=\"display:none;\">\n",
              "\n",
              "  <svg xmlns=\"http://www.w3.org/2000/svg\" height=\"24px\" viewBox=\"0 -960 960 960\">\n",
              "    <path d=\"M120-120v-720h720v720H120Zm60-500h600v-160H180v160Zm220 220h160v-160H400v160Zm0 220h160v-160H400v160ZM180-400h160v-160H180v160Zm440 0h160v-160H620v160ZM180-180h160v-160H180v160Zm440 0h160v-160H620v160Z\"/>\n",
              "  </svg>\n",
              "    </button>\n",
              "\n",
              "  <style>\n",
              "    .colab-df-container {\n",
              "      display:flex;\n",
              "      gap: 12px;\n",
              "    }\n",
              "\n",
              "    .colab-df-convert {\n",
              "      background-color: #E8F0FE;\n",
              "      border: none;\n",
              "      border-radius: 50%;\n",
              "      cursor: pointer;\n",
              "      display: none;\n",
              "      fill: #1967D2;\n",
              "      height: 32px;\n",
              "      padding: 0 0 0 0;\n",
              "      width: 32px;\n",
              "    }\n",
              "\n",
              "    .colab-df-convert:hover {\n",
              "      background-color: #E2EBFA;\n",
              "      box-shadow: 0px 1px 2px rgba(60, 64, 67, 0.3), 0px 1px 3px 1px rgba(60, 64, 67, 0.15);\n",
              "      fill: #174EA6;\n",
              "    }\n",
              "\n",
              "    .colab-df-buttons div {\n",
              "      margin-bottom: 4px;\n",
              "    }\n",
              "\n",
              "    [theme=dark] .colab-df-convert {\n",
              "      background-color: #3B4455;\n",
              "      fill: #D2E3FC;\n",
              "    }\n",
              "\n",
              "    [theme=dark] .colab-df-convert:hover {\n",
              "      background-color: #434B5C;\n",
              "      box-shadow: 0px 1px 3px 1px rgba(0, 0, 0, 0.15);\n",
              "      filter: drop-shadow(0px 1px 2px rgba(0, 0, 0, 0.3));\n",
              "      fill: #FFFFFF;\n",
              "    }\n",
              "  </style>\n",
              "\n",
              "    <script>\n",
              "      const buttonEl =\n",
              "        document.querySelector('#df-cf72e2de-8cfc-4645-be91-4809f74c89af button.colab-df-convert');\n",
              "      buttonEl.style.display =\n",
              "        google.colab.kernel.accessAllowed ? 'block' : 'none';\n",
              "\n",
              "      async function convertToInteractive(key) {\n",
              "        const element = document.querySelector('#df-cf72e2de-8cfc-4645-be91-4809f74c89af');\n",
              "        const dataTable =\n",
              "          await google.colab.kernel.invokeFunction('convertToInteractive',\n",
              "                                                    [key], {});\n",
              "        if (!dataTable) return;\n",
              "\n",
              "        const docLinkHtml = 'Like what you see? Visit the ' +\n",
              "          '<a target=\"_blank\" href=https://colab.research.google.com/notebooks/data_table.ipynb>data table notebook</a>'\n",
              "          + ' to learn more about interactive tables.';\n",
              "        element.innerHTML = '';\n",
              "        dataTable['output_type'] = 'display_data';\n",
              "        await google.colab.output.renderOutput(dataTable, element);\n",
              "        const docLink = document.createElement('div');\n",
              "        docLink.innerHTML = docLinkHtml;\n",
              "        element.appendChild(docLink);\n",
              "      }\n",
              "    </script>\n",
              "  </div>\n",
              "\n",
              "\n",
              "<div id=\"df-18f79986-0876-4287-a772-112dab9c9dfa\">\n",
              "  <button class=\"colab-df-quickchart\" onclick=\"quickchart('df-18f79986-0876-4287-a772-112dab9c9dfa')\"\n",
              "            title=\"Suggest charts\"\n",
              "            style=\"display:none;\">\n",
              "\n",
              "<svg xmlns=\"http://www.w3.org/2000/svg\" height=\"24px\"viewBox=\"0 0 24 24\"\n",
              "     width=\"24px\">\n",
              "    <g>\n",
              "        <path d=\"M19 3H5c-1.1 0-2 .9-2 2v14c0 1.1.9 2 2 2h14c1.1 0 2-.9 2-2V5c0-1.1-.9-2-2-2zM9 17H7v-7h2v7zm4 0h-2V7h2v10zm4 0h-2v-4h2v4z\"/>\n",
              "    </g>\n",
              "</svg>\n",
              "  </button>\n",
              "\n",
              "<style>\n",
              "  .colab-df-quickchart {\n",
              "      --bg-color: #E8F0FE;\n",
              "      --fill-color: #1967D2;\n",
              "      --hover-bg-color: #E2EBFA;\n",
              "      --hover-fill-color: #174EA6;\n",
              "      --disabled-fill-color: #AAA;\n",
              "      --disabled-bg-color: #DDD;\n",
              "  }\n",
              "\n",
              "  [theme=dark] .colab-df-quickchart {\n",
              "      --bg-color: #3B4455;\n",
              "      --fill-color: #D2E3FC;\n",
              "      --hover-bg-color: #434B5C;\n",
              "      --hover-fill-color: #FFFFFF;\n",
              "      --disabled-bg-color: #3B4455;\n",
              "      --disabled-fill-color: #666;\n",
              "  }\n",
              "\n",
              "  .colab-df-quickchart {\n",
              "    background-color: var(--bg-color);\n",
              "    border: none;\n",
              "    border-radius: 50%;\n",
              "    cursor: pointer;\n",
              "    display: none;\n",
              "    fill: var(--fill-color);\n",
              "    height: 32px;\n",
              "    padding: 0;\n",
              "    width: 32px;\n",
              "  }\n",
              "\n",
              "  .colab-df-quickchart:hover {\n",
              "    background-color: var(--hover-bg-color);\n",
              "    box-shadow: 0 1px 2px rgba(60, 64, 67, 0.3), 0 1px 3px 1px rgba(60, 64, 67, 0.15);\n",
              "    fill: var(--button-hover-fill-color);\n",
              "  }\n",
              "\n",
              "  .colab-df-quickchart-complete:disabled,\n",
              "  .colab-df-quickchart-complete:disabled:hover {\n",
              "    background-color: var(--disabled-bg-color);\n",
              "    fill: var(--disabled-fill-color);\n",
              "    box-shadow: none;\n",
              "  }\n",
              "\n",
              "  .colab-df-spinner {\n",
              "    border: 2px solid var(--fill-color);\n",
              "    border-color: transparent;\n",
              "    border-bottom-color: var(--fill-color);\n",
              "    animation:\n",
              "      spin 1s steps(1) infinite;\n",
              "  }\n",
              "\n",
              "  @keyframes spin {\n",
              "    0% {\n",
              "      border-color: transparent;\n",
              "      border-bottom-color: var(--fill-color);\n",
              "      border-left-color: var(--fill-color);\n",
              "    }\n",
              "    20% {\n",
              "      border-color: transparent;\n",
              "      border-left-color: var(--fill-color);\n",
              "      border-top-color: var(--fill-color);\n",
              "    }\n",
              "    30% {\n",
              "      border-color: transparent;\n",
              "      border-left-color: var(--fill-color);\n",
              "      border-top-color: var(--fill-color);\n",
              "      border-right-color: var(--fill-color);\n",
              "    }\n",
              "    40% {\n",
              "      border-color: transparent;\n",
              "      border-right-color: var(--fill-color);\n",
              "      border-top-color: var(--fill-color);\n",
              "    }\n",
              "    60% {\n",
              "      border-color: transparent;\n",
              "      border-right-color: var(--fill-color);\n",
              "    }\n",
              "    80% {\n",
              "      border-color: transparent;\n",
              "      border-right-color: var(--fill-color);\n",
              "      border-bottom-color: var(--fill-color);\n",
              "    }\n",
              "    90% {\n",
              "      border-color: transparent;\n",
              "      border-bottom-color: var(--fill-color);\n",
              "    }\n",
              "  }\n",
              "</style>\n",
              "\n",
              "  <script>\n",
              "    async function quickchart(key) {\n",
              "      const quickchartButtonEl =\n",
              "        document.querySelector('#' + key + ' button');\n",
              "      quickchartButtonEl.disabled = true;  // To prevent multiple clicks.\n",
              "      quickchartButtonEl.classList.add('colab-df-spinner');\n",
              "      try {\n",
              "        const charts = await google.colab.kernel.invokeFunction(\n",
              "            'suggestCharts', [key], {});\n",
              "      } catch (error) {\n",
              "        console.error('Error during call to suggestCharts:', error);\n",
              "      }\n",
              "      quickchartButtonEl.classList.remove('colab-df-spinner');\n",
              "      quickchartButtonEl.classList.add('colab-df-quickchart-complete');\n",
              "    }\n",
              "    (() => {\n",
              "      let quickchartButtonEl =\n",
              "        document.querySelector('#df-18f79986-0876-4287-a772-112dab9c9dfa button');\n",
              "      quickchartButtonEl.style.display =\n",
              "        google.colab.kernel.accessAllowed ? 'block' : 'none';\n",
              "    })();\n",
              "  </script>\n",
              "</div>\n",
              "    </div>\n",
              "  </div>\n"
            ],
            "application/vnd.google.colaboratory.intrinsic+json": {
              "type": "dataframe",
              "variable_name": "college_passing_raw",
              "summary": "{\n  \"name\": \"college_passing_raw\",\n  \"rows\": 3030,\n  \"fields\": [\n    {\n      \"column\": \"Season\",\n      \"properties\": {\n        \"dtype\": \"number\",\n        \"std\": 3,\n        \"min\": 2013,\n        \"max\": 2023,\n        \"num_unique_values\": 11,\n        \"samples\": [\n          2019,\n          2013,\n          2021\n        ],\n        \"semantic_type\": \"\",\n        \"description\": \"\"\n      }\n    },\n    {\n      \"column\": \"Rank\",\n      \"properties\": {\n        \"dtype\": \"number\",\n        \"std\": 40,\n        \"min\": 1,\n        \"max\": 150,\n        \"num_unique_values\": 150,\n        \"samples\": [\n          84,\n          92,\n          56\n        ],\n        \"semantic_type\": \"\",\n        \"description\": \"\"\n      }\n    },\n    {\n      \"column\": \"Player\",\n      \"properties\": {\n        \"dtype\": \"string\",\n        \"num_unique_values\": 1666,\n        \"samples\": [\n          \"Justis Stokes\",\n          \"Kenny Hill\",\n          \"Cooper Kupp\"\n        ],\n        \"semantic_type\": \"\",\n        \"description\": \"\"\n      }\n    },\n    {\n      \"column\": \"School\",\n      \"properties\": {\n        \"dtype\": \"category\",\n        \"num_unique_values\": 257,\n        \"samples\": [\n          \"North Dakota\",\n          \"San Jose St.\",\n          \"Eastern Ky.\"\n        ],\n        \"semantic_type\": \"\",\n        \"description\": \"\"\n      }\n    },\n    {\n      \"column\": \"Power5\",\n      \"properties\": {\n        \"dtype\": \"category\",\n        \"num_unique_values\": 2,\n        \"samples\": [\n          \"Y\",\n          \"N\"\n        ],\n        \"semantic_type\": \"\",\n        \"description\": \"\"\n      }\n    },\n    {\n      \"column\": \"Conference\",\n      \"properties\": {\n        \"dtype\": \"category\",\n        \"num_unique_values\": 28,\n        \"samples\": [\n          \"Sun Belt\",\n          \"WAC\"\n        ],\n        \"semantic_type\": \"\",\n        \"description\": \"\"\n      }\n    },\n    {\n      \"column\": \"Division\",\n      \"properties\": {\n        \"dtype\": \"category\",\n        \"num_unique_values\": 2,\n        \"samples\": [\n          \"FBS\",\n          \"FCS\"\n        ],\n        \"semantic_type\": \"\",\n        \"description\": \"\"\n      }\n    },\n    {\n      \"column\": \"Cl\",\n      \"properties\": {\n        \"dtype\": \"category\",\n        \"num_unique_values\": 5,\n        \"samples\": [\n          \"So.\",\n          \"---\"\n        ],\n        \"semantic_type\": \"\",\n        \"description\": \"\"\n      }\n    },\n    {\n      \"column\": \"Pos\",\n      \"properties\": {\n        \"dtype\": \"category\",\n        \"num_unique_values\": 7,\n        \"samples\": [\n          \"QB\",\n          \"WR\"\n        ],\n        \"semantic_type\": \"\",\n        \"description\": \"\"\n      }\n    },\n    {\n      \"column\": \"G\",\n      \"properties\": {\n        \"dtype\": \"number\",\n        \"std\": 2,\n        \"min\": 1,\n        \"max\": 16,\n        \"num_unique_values\": 16,\n        \"samples\": [\n          11,\n          13\n        ],\n        \"semantic_type\": \"\",\n        \"description\": \"\"\n      }\n    },\n    {\n      \"column\": \"Pass Att\",\n      \"properties\": {\n        \"dtype\": \"number\",\n        \"std\": 133,\n        \"min\": 1,\n        \"max\": 714,\n        \"num_unique_values\": 543,\n        \"samples\": [\n          515,\n          450\n        ],\n        \"semantic_type\": \"\",\n        \"description\": \"\"\n      }\n    },\n    {\n      \"column\": \"Pass Com\",\n      \"properties\": {\n        \"dtype\": \"number\",\n        \"std\": 86,\n        \"min\": 1,\n        \"max\": 505,\n        \"num_unique_values\": 372,\n        \"samples\": [\n          52,\n          117\n        ],\n        \"semantic_type\": \"\",\n        \"description\": \"\"\n      }\n    },\n    {\n      \"column\": \"Int\",\n      \"properties\": {\n        \"dtype\": \"number\",\n        \"std\": 3,\n        \"min\": 0,\n        \"max\": 32,\n        \"num_unique_values\": 24,\n        \"samples\": [\n          2,\n          15\n        ],\n        \"semantic_type\": \"\",\n        \"description\": \"\"\n      }\n    },\n    {\n      \"column\": \"Pass TD\",\n      \"properties\": {\n        \"dtype\": \"number\",\n        \"std\": 9,\n        \"min\": 0,\n        \"max\": 62,\n        \"num_unique_values\": 57,\n        \"samples\": [\n          9,\n          7\n        ],\n        \"semantic_type\": \"\",\n        \"description\": \"\"\n      }\n    },\n    {\n      \"column\": \"Pass Yds\",\n      \"properties\": {\n        \"dtype\": \"number\",\n        \"std\": 1079,\n        \"min\": -3,\n        \"max\": 5967,\n        \"num_unique_values\": 2068,\n        \"samples\": [\n          2256,\n          1079\n        ],\n        \"semantic_type\": \"\",\n        \"description\": \"\"\n      }\n    }\n  ]\n}"
            }
          },
          "metadata": {}
        },
        {
          "output_type": "display_data",
          "data": {
            "text/plain": [
              "      Season  Rank          Player         School Power5 Conference Division  \\\n",
              "0       2014    89        A. Baker         Alcorn      N       SWAC      FCS   \n",
              "1       2020   179     A.J. Carter        McNeese      N  Southland      FCS   \n",
              "2       2019   188      A.J. Davis     Pittsburgh      Y        ACC      FBS   \n",
              "3       2018     3      A.J. Hines       Duquesne      N        NEC      FCS   \n",
              "4       2016    10      A.J. Hines       Duquesne      N        NEC      FCS   \n",
              "...      ...   ...             ...            ...    ...        ...      ...   \n",
              "4602    2020    30  Zonovan Knight       NC State      Y        ACC      FBS   \n",
              "4603    2021    90  Zonovan Knight       NC State      Y        ACC      FBS   \n",
              "4604    2019   104  Zonovan Knight       NC State      Y        ACC      FBS   \n",
              "4605    2022   170   Zuberi Mobley  Fla. Atlantic      N       CUSA      FBS   \n",
              "4606    2013   247   Zurlon Tipton  Central Mich.      N        MAC      FBS   \n",
              "\n",
              "       Cl  Pos   G  Rush  Rush TD  Rush Yds  \n",
              "0     ---  NaN  13   113       13       725  \n",
              "1     So.   RB   4    31        2       156  \n",
              "2     Jr.   RB  12   127        4       530  \n",
              "3     Jr.   RB  12   266       15      1520  \n",
              "4     Fr.   RB  11   242       13      1291  \n",
              "...   ...  ...  ..   ...      ...       ...  \n",
              "4602  So.   RB  12   143       10       788  \n",
              "4603  So.   RB  12   140        3       753  \n",
              "4604  Fr.   RB  12   136        5       745  \n",
              "4605  So.   RB  12   101        3       534  \n",
              "4606  Sr.   RB   6    74        8       398  \n",
              "\n",
              "[4607 rows x 13 columns]"
            ],
            "text/html": [
              "\n",
              "  <div id=\"df-ba3bb09a-62d4-4578-9567-12971f9574c1\" class=\"colab-df-container\">\n",
              "    <div>\n",
              "<style scoped>\n",
              "    .dataframe tbody tr th:only-of-type {\n",
              "        vertical-align: middle;\n",
              "    }\n",
              "\n",
              "    .dataframe tbody tr th {\n",
              "        vertical-align: top;\n",
              "    }\n",
              "\n",
              "    .dataframe thead th {\n",
              "        text-align: right;\n",
              "    }\n",
              "</style>\n",
              "<table border=\"1\" class=\"dataframe\">\n",
              "  <thead>\n",
              "    <tr style=\"text-align: right;\">\n",
              "      <th></th>\n",
              "      <th>Season</th>\n",
              "      <th>Rank</th>\n",
              "      <th>Player</th>\n",
              "      <th>School</th>\n",
              "      <th>Power5</th>\n",
              "      <th>Conference</th>\n",
              "      <th>Division</th>\n",
              "      <th>Cl</th>\n",
              "      <th>Pos</th>\n",
              "      <th>G</th>\n",
              "      <th>Rush</th>\n",
              "      <th>Rush TD</th>\n",
              "      <th>Rush Yds</th>\n",
              "    </tr>\n",
              "  </thead>\n",
              "  <tbody>\n",
              "    <tr>\n",
              "      <th>0</th>\n",
              "      <td>2014</td>\n",
              "      <td>89</td>\n",
              "      <td>A. Baker</td>\n",
              "      <td>Alcorn</td>\n",
              "      <td>N</td>\n",
              "      <td>SWAC</td>\n",
              "      <td>FCS</td>\n",
              "      <td>---</td>\n",
              "      <td>NaN</td>\n",
              "      <td>13</td>\n",
              "      <td>113</td>\n",
              "      <td>13</td>\n",
              "      <td>725</td>\n",
              "    </tr>\n",
              "    <tr>\n",
              "      <th>1</th>\n",
              "      <td>2020</td>\n",
              "      <td>179</td>\n",
              "      <td>A.J. Carter</td>\n",
              "      <td>McNeese</td>\n",
              "      <td>N</td>\n",
              "      <td>Southland</td>\n",
              "      <td>FCS</td>\n",
              "      <td>So.</td>\n",
              "      <td>RB</td>\n",
              "      <td>4</td>\n",
              "      <td>31</td>\n",
              "      <td>2</td>\n",
              "      <td>156</td>\n",
              "    </tr>\n",
              "    <tr>\n",
              "      <th>2</th>\n",
              "      <td>2019</td>\n",
              "      <td>188</td>\n",
              "      <td>A.J. Davis</td>\n",
              "      <td>Pittsburgh</td>\n",
              "      <td>Y</td>\n",
              "      <td>ACC</td>\n",
              "      <td>FBS</td>\n",
              "      <td>Jr.</td>\n",
              "      <td>RB</td>\n",
              "      <td>12</td>\n",
              "      <td>127</td>\n",
              "      <td>4</td>\n",
              "      <td>530</td>\n",
              "    </tr>\n",
              "    <tr>\n",
              "      <th>3</th>\n",
              "      <td>2018</td>\n",
              "      <td>3</td>\n",
              "      <td>A.J. Hines</td>\n",
              "      <td>Duquesne</td>\n",
              "      <td>N</td>\n",
              "      <td>NEC</td>\n",
              "      <td>FCS</td>\n",
              "      <td>Jr.</td>\n",
              "      <td>RB</td>\n",
              "      <td>12</td>\n",
              "      <td>266</td>\n",
              "      <td>15</td>\n",
              "      <td>1520</td>\n",
              "    </tr>\n",
              "    <tr>\n",
              "      <th>4</th>\n",
              "      <td>2016</td>\n",
              "      <td>10</td>\n",
              "      <td>A.J. Hines</td>\n",
              "      <td>Duquesne</td>\n",
              "      <td>N</td>\n",
              "      <td>NEC</td>\n",
              "      <td>FCS</td>\n",
              "      <td>Fr.</td>\n",
              "      <td>RB</td>\n",
              "      <td>11</td>\n",
              "      <td>242</td>\n",
              "      <td>13</td>\n",
              "      <td>1291</td>\n",
              "    </tr>\n",
              "    <tr>\n",
              "      <th>...</th>\n",
              "      <td>...</td>\n",
              "      <td>...</td>\n",
              "      <td>...</td>\n",
              "      <td>...</td>\n",
              "      <td>...</td>\n",
              "      <td>...</td>\n",
              "      <td>...</td>\n",
              "      <td>...</td>\n",
              "      <td>...</td>\n",
              "      <td>...</td>\n",
              "      <td>...</td>\n",
              "      <td>...</td>\n",
              "      <td>...</td>\n",
              "    </tr>\n",
              "    <tr>\n",
              "      <th>4602</th>\n",
              "      <td>2020</td>\n",
              "      <td>30</td>\n",
              "      <td>Zonovan Knight</td>\n",
              "      <td>NC State</td>\n",
              "      <td>Y</td>\n",
              "      <td>ACC</td>\n",
              "      <td>FBS</td>\n",
              "      <td>So.</td>\n",
              "      <td>RB</td>\n",
              "      <td>12</td>\n",
              "      <td>143</td>\n",
              "      <td>10</td>\n",
              "      <td>788</td>\n",
              "    </tr>\n",
              "    <tr>\n",
              "      <th>4603</th>\n",
              "      <td>2021</td>\n",
              "      <td>90</td>\n",
              "      <td>Zonovan Knight</td>\n",
              "      <td>NC State</td>\n",
              "      <td>Y</td>\n",
              "      <td>ACC</td>\n",
              "      <td>FBS</td>\n",
              "      <td>So.</td>\n",
              "      <td>RB</td>\n",
              "      <td>12</td>\n",
              "      <td>140</td>\n",
              "      <td>3</td>\n",
              "      <td>753</td>\n",
              "    </tr>\n",
              "    <tr>\n",
              "      <th>4604</th>\n",
              "      <td>2019</td>\n",
              "      <td>104</td>\n",
              "      <td>Zonovan Knight</td>\n",
              "      <td>NC State</td>\n",
              "      <td>Y</td>\n",
              "      <td>ACC</td>\n",
              "      <td>FBS</td>\n",
              "      <td>Fr.</td>\n",
              "      <td>RB</td>\n",
              "      <td>12</td>\n",
              "      <td>136</td>\n",
              "      <td>5</td>\n",
              "      <td>745</td>\n",
              "    </tr>\n",
              "    <tr>\n",
              "      <th>4605</th>\n",
              "      <td>2022</td>\n",
              "      <td>170</td>\n",
              "      <td>Zuberi Mobley</td>\n",
              "      <td>Fla. Atlantic</td>\n",
              "      <td>N</td>\n",
              "      <td>CUSA</td>\n",
              "      <td>FBS</td>\n",
              "      <td>So.</td>\n",
              "      <td>RB</td>\n",
              "      <td>12</td>\n",
              "      <td>101</td>\n",
              "      <td>3</td>\n",
              "      <td>534</td>\n",
              "    </tr>\n",
              "    <tr>\n",
              "      <th>4606</th>\n",
              "      <td>2013</td>\n",
              "      <td>247</td>\n",
              "      <td>Zurlon Tipton</td>\n",
              "      <td>Central Mich.</td>\n",
              "      <td>N</td>\n",
              "      <td>MAC</td>\n",
              "      <td>FBS</td>\n",
              "      <td>Sr.</td>\n",
              "      <td>RB</td>\n",
              "      <td>6</td>\n",
              "      <td>74</td>\n",
              "      <td>8</td>\n",
              "      <td>398</td>\n",
              "    </tr>\n",
              "  </tbody>\n",
              "</table>\n",
              "<p>4607 rows × 13 columns</p>\n",
              "</div>\n",
              "    <div class=\"colab-df-buttons\">\n",
              "\n",
              "  <div class=\"colab-df-container\">\n",
              "    <button class=\"colab-df-convert\" onclick=\"convertToInteractive('df-ba3bb09a-62d4-4578-9567-12971f9574c1')\"\n",
              "            title=\"Convert this dataframe to an interactive table.\"\n",
              "            style=\"display:none;\">\n",
              "\n",
              "  <svg xmlns=\"http://www.w3.org/2000/svg\" height=\"24px\" viewBox=\"0 -960 960 960\">\n",
              "    <path d=\"M120-120v-720h720v720H120Zm60-500h600v-160H180v160Zm220 220h160v-160H400v160Zm0 220h160v-160H400v160ZM180-400h160v-160H180v160Zm440 0h160v-160H620v160ZM180-180h160v-160H180v160Zm440 0h160v-160H620v160Z\"/>\n",
              "  </svg>\n",
              "    </button>\n",
              "\n",
              "  <style>\n",
              "    .colab-df-container {\n",
              "      display:flex;\n",
              "      gap: 12px;\n",
              "    }\n",
              "\n",
              "    .colab-df-convert {\n",
              "      background-color: #E8F0FE;\n",
              "      border: none;\n",
              "      border-radius: 50%;\n",
              "      cursor: pointer;\n",
              "      display: none;\n",
              "      fill: #1967D2;\n",
              "      height: 32px;\n",
              "      padding: 0 0 0 0;\n",
              "      width: 32px;\n",
              "    }\n",
              "\n",
              "    .colab-df-convert:hover {\n",
              "      background-color: #E2EBFA;\n",
              "      box-shadow: 0px 1px 2px rgba(60, 64, 67, 0.3), 0px 1px 3px 1px rgba(60, 64, 67, 0.15);\n",
              "      fill: #174EA6;\n",
              "    }\n",
              "\n",
              "    .colab-df-buttons div {\n",
              "      margin-bottom: 4px;\n",
              "    }\n",
              "\n",
              "    [theme=dark] .colab-df-convert {\n",
              "      background-color: #3B4455;\n",
              "      fill: #D2E3FC;\n",
              "    }\n",
              "\n",
              "    [theme=dark] .colab-df-convert:hover {\n",
              "      background-color: #434B5C;\n",
              "      box-shadow: 0px 1px 3px 1px rgba(0, 0, 0, 0.15);\n",
              "      filter: drop-shadow(0px 1px 2px rgba(0, 0, 0, 0.3));\n",
              "      fill: #FFFFFF;\n",
              "    }\n",
              "  </style>\n",
              "\n",
              "    <script>\n",
              "      const buttonEl =\n",
              "        document.querySelector('#df-ba3bb09a-62d4-4578-9567-12971f9574c1 button.colab-df-convert');\n",
              "      buttonEl.style.display =\n",
              "        google.colab.kernel.accessAllowed ? 'block' : 'none';\n",
              "\n",
              "      async function convertToInteractive(key) {\n",
              "        const element = document.querySelector('#df-ba3bb09a-62d4-4578-9567-12971f9574c1');\n",
              "        const dataTable =\n",
              "          await google.colab.kernel.invokeFunction('convertToInteractive',\n",
              "                                                    [key], {});\n",
              "        if (!dataTable) return;\n",
              "\n",
              "        const docLinkHtml = 'Like what you see? Visit the ' +\n",
              "          '<a target=\"_blank\" href=https://colab.research.google.com/notebooks/data_table.ipynb>data table notebook</a>'\n",
              "          + ' to learn more about interactive tables.';\n",
              "        element.innerHTML = '';\n",
              "        dataTable['output_type'] = 'display_data';\n",
              "        await google.colab.output.renderOutput(dataTable, element);\n",
              "        const docLink = document.createElement('div');\n",
              "        docLink.innerHTML = docLinkHtml;\n",
              "        element.appendChild(docLink);\n",
              "      }\n",
              "    </script>\n",
              "  </div>\n",
              "\n",
              "\n",
              "<div id=\"df-c593153d-bf1d-46da-8633-9d09d7b88512\">\n",
              "  <button class=\"colab-df-quickchart\" onclick=\"quickchart('df-c593153d-bf1d-46da-8633-9d09d7b88512')\"\n",
              "            title=\"Suggest charts\"\n",
              "            style=\"display:none;\">\n",
              "\n",
              "<svg xmlns=\"http://www.w3.org/2000/svg\" height=\"24px\"viewBox=\"0 0 24 24\"\n",
              "     width=\"24px\">\n",
              "    <g>\n",
              "        <path d=\"M19 3H5c-1.1 0-2 .9-2 2v14c0 1.1.9 2 2 2h14c1.1 0 2-.9 2-2V5c0-1.1-.9-2-2-2zM9 17H7v-7h2v7zm4 0h-2V7h2v10zm4 0h-2v-4h2v4z\"/>\n",
              "    </g>\n",
              "</svg>\n",
              "  </button>\n",
              "\n",
              "<style>\n",
              "  .colab-df-quickchart {\n",
              "      --bg-color: #E8F0FE;\n",
              "      --fill-color: #1967D2;\n",
              "      --hover-bg-color: #E2EBFA;\n",
              "      --hover-fill-color: #174EA6;\n",
              "      --disabled-fill-color: #AAA;\n",
              "      --disabled-bg-color: #DDD;\n",
              "  }\n",
              "\n",
              "  [theme=dark] .colab-df-quickchart {\n",
              "      --bg-color: #3B4455;\n",
              "      --fill-color: #D2E3FC;\n",
              "      --hover-bg-color: #434B5C;\n",
              "      --hover-fill-color: #FFFFFF;\n",
              "      --disabled-bg-color: #3B4455;\n",
              "      --disabled-fill-color: #666;\n",
              "  }\n",
              "\n",
              "  .colab-df-quickchart {\n",
              "    background-color: var(--bg-color);\n",
              "    border: none;\n",
              "    border-radius: 50%;\n",
              "    cursor: pointer;\n",
              "    display: none;\n",
              "    fill: var(--fill-color);\n",
              "    height: 32px;\n",
              "    padding: 0;\n",
              "    width: 32px;\n",
              "  }\n",
              "\n",
              "  .colab-df-quickchart:hover {\n",
              "    background-color: var(--hover-bg-color);\n",
              "    box-shadow: 0 1px 2px rgba(60, 64, 67, 0.3), 0 1px 3px 1px rgba(60, 64, 67, 0.15);\n",
              "    fill: var(--button-hover-fill-color);\n",
              "  }\n",
              "\n",
              "  .colab-df-quickchart-complete:disabled,\n",
              "  .colab-df-quickchart-complete:disabled:hover {\n",
              "    background-color: var(--disabled-bg-color);\n",
              "    fill: var(--disabled-fill-color);\n",
              "    box-shadow: none;\n",
              "  }\n",
              "\n",
              "  .colab-df-spinner {\n",
              "    border: 2px solid var(--fill-color);\n",
              "    border-color: transparent;\n",
              "    border-bottom-color: var(--fill-color);\n",
              "    animation:\n",
              "      spin 1s steps(1) infinite;\n",
              "  }\n",
              "\n",
              "  @keyframes spin {\n",
              "    0% {\n",
              "      border-color: transparent;\n",
              "      border-bottom-color: var(--fill-color);\n",
              "      border-left-color: var(--fill-color);\n",
              "    }\n",
              "    20% {\n",
              "      border-color: transparent;\n",
              "      border-left-color: var(--fill-color);\n",
              "      border-top-color: var(--fill-color);\n",
              "    }\n",
              "    30% {\n",
              "      border-color: transparent;\n",
              "      border-left-color: var(--fill-color);\n",
              "      border-top-color: var(--fill-color);\n",
              "      border-right-color: var(--fill-color);\n",
              "    }\n",
              "    40% {\n",
              "      border-color: transparent;\n",
              "      border-right-color: var(--fill-color);\n",
              "      border-top-color: var(--fill-color);\n",
              "    }\n",
              "    60% {\n",
              "      border-color: transparent;\n",
              "      border-right-color: var(--fill-color);\n",
              "    }\n",
              "    80% {\n",
              "      border-color: transparent;\n",
              "      border-right-color: var(--fill-color);\n",
              "      border-bottom-color: var(--fill-color);\n",
              "    }\n",
              "    90% {\n",
              "      border-color: transparent;\n",
              "      border-bottom-color: var(--fill-color);\n",
              "    }\n",
              "  }\n",
              "</style>\n",
              "\n",
              "  <script>\n",
              "    async function quickchart(key) {\n",
              "      const quickchartButtonEl =\n",
              "        document.querySelector('#' + key + ' button');\n",
              "      quickchartButtonEl.disabled = true;  // To prevent multiple clicks.\n",
              "      quickchartButtonEl.classList.add('colab-df-spinner');\n",
              "      try {\n",
              "        const charts = await google.colab.kernel.invokeFunction(\n",
              "            'suggestCharts', [key], {});\n",
              "      } catch (error) {\n",
              "        console.error('Error during call to suggestCharts:', error);\n",
              "      }\n",
              "      quickchartButtonEl.classList.remove('colab-df-spinner');\n",
              "      quickchartButtonEl.classList.add('colab-df-quickchart-complete');\n",
              "    }\n",
              "    (() => {\n",
              "      let quickchartButtonEl =\n",
              "        document.querySelector('#df-c593153d-bf1d-46da-8633-9d09d7b88512 button');\n",
              "      quickchartButtonEl.style.display =\n",
              "        google.colab.kernel.accessAllowed ? 'block' : 'none';\n",
              "    })();\n",
              "  </script>\n",
              "</div>\n",
              "    </div>\n",
              "  </div>\n"
            ],
            "application/vnd.google.colaboratory.intrinsic+json": {
              "type": "dataframe",
              "variable_name": "college_rushing_raw",
              "summary": "{\n  \"name\": \"college_rushing_raw\",\n  \"rows\": 4607,\n  \"fields\": [\n    {\n      \"column\": \"Season\",\n      \"properties\": {\n        \"dtype\": \"number\",\n        \"std\": 3,\n        \"min\": 2013,\n        \"max\": 2023,\n        \"num_unique_values\": 11,\n        \"samples\": [\n          2017,\n          2014,\n          2021\n        ],\n        \"semantic_type\": \"\",\n        \"description\": \"\"\n      }\n    },\n    {\n      \"column\": \"Rank\",\n      \"properties\": {\n        \"dtype\": \"number\",\n        \"std\": 64,\n        \"min\": 1,\n        \"max\": 300,\n        \"num_unique_values\": 293,\n        \"samples\": [\n          200,\n          253,\n          23\n        ],\n        \"semantic_type\": \"\",\n        \"description\": \"\"\n      }\n    },\n    {\n      \"column\": \"Player\",\n      \"properties\": {\n        \"dtype\": \"string\",\n        \"num_unique_values\": 2677,\n        \"samples\": [\n          \"Elliot Croskey\",\n          \"Sam McPherson\",\n          \"Cody Forbes\"\n        ],\n        \"semantic_type\": \"\",\n        \"description\": \"\"\n      }\n    },\n    {\n      \"column\": \"School\",\n      \"properties\": {\n        \"dtype\": \"category\",\n        \"num_unique_values\": 257,\n        \"samples\": [\n          \"East Carolina\",\n          \"Wake Forest\",\n          \"Marist\"\n        ],\n        \"semantic_type\": \"\",\n        \"description\": \"\"\n      }\n    },\n    {\n      \"column\": \"Power5\",\n      \"properties\": {\n        \"dtype\": \"category\",\n        \"num_unique_values\": 2,\n        \"samples\": [\n          \"Y\",\n          \"N\"\n        ],\n        \"semantic_type\": \"\",\n        \"description\": \"\"\n      }\n    },\n    {\n      \"column\": \"Conference\",\n      \"properties\": {\n        \"dtype\": \"category\",\n        \"num_unique_values\": 28,\n        \"samples\": [\n          \"Sun Belt\",\n          \"ASUN\"\n        ],\n        \"semantic_type\": \"\",\n        \"description\": \"\"\n      }\n    },\n    {\n      \"column\": \"Division\",\n      \"properties\": {\n        \"dtype\": \"category\",\n        \"num_unique_values\": 2,\n        \"samples\": [\n          \"FBS\",\n          \"FCS\"\n        ],\n        \"semantic_type\": \"\",\n        \"description\": \"\"\n      }\n    },\n    {\n      \"column\": \"Cl\",\n      \"properties\": {\n        \"dtype\": \"category\",\n        \"num_unique_values\": 5,\n        \"samples\": [\n          \"So.\",\n          \"Sr.\"\n        ],\n        \"semantic_type\": \"\",\n        \"description\": \"\"\n      }\n    },\n    {\n      \"column\": \"Pos\",\n      \"properties\": {\n        \"dtype\": \"category\",\n        \"num_unique_values\": 10,\n        \"samples\": [\n          \"F\",\n          \"QB\"\n        ],\n        \"semantic_type\": \"\",\n        \"description\": \"\"\n      }\n    },\n    {\n      \"column\": \"G\",\n      \"properties\": {\n        \"dtype\": \"number\",\n        \"std\": 2,\n        \"min\": 1,\n        \"max\": 16,\n        \"num_unique_values\": 16,\n        \"samples\": [\n          13,\n          4\n        ],\n        \"semantic_type\": \"\",\n        \"description\": \"\"\n      }\n    },\n    {\n      \"column\": \"Rush\",\n      \"properties\": {\n        \"dtype\": \"number\",\n        \"std\": 55,\n        \"min\": 15,\n        \"max\": 413,\n        \"num_unique_values\": 308,\n        \"samples\": [\n          39,\n          151\n        ],\n        \"semantic_type\": \"\",\n        \"description\": \"\"\n      }\n    },\n    {\n      \"column\": \"Rush TD\",\n      \"properties\": {\n        \"dtype\": \"number\",\n        \"std\": 4,\n        \"min\": 0,\n        \"max\": 41,\n        \"num_unique_values\": 33,\n        \"samples\": [\n          41,\n          17\n        ],\n        \"semantic_type\": \"\",\n        \"description\": \"\"\n      }\n    },\n    {\n      \"column\": \"Rush Yds\",\n      \"properties\": {\n        \"dtype\": \"number\",\n        \"std\": 325,\n        \"min\": 143,\n        \"max\": 2587,\n        \"num_unique_values\": 1263,\n        \"samples\": [\n          1235,\n          1446\n        ],\n        \"semantic_type\": \"\",\n        \"description\": \"\"\n      }\n    }\n  ]\n}"
            }
          },
          "metadata": {}
        },
        {
          "output_type": "display_data",
          "data": {
            "text/plain": [
              "      Season   Rank            Player          School Power5       Conference  \\\n",
              "0       2013  204.0      A.C. Leonard   Tennessee St.      N              OVC   \n",
              "1       2018    7.0        A.J. Brown        Ole Miss      Y              SEC   \n",
              "2       2017   10.0        A.J. Brown        Ole Miss      Y              SEC   \n",
              "3       2017  186.0        A.J. Coney           Akron      N              MAC   \n",
              "4       2014  107.0      A.J. Johnson     Indiana St.      N             MVFC   \n",
              "...      ...    ...               ...             ...    ...              ...   \n",
              "4515    2014    NaN        Ben Koyack      Notre Dame      N  FBS Independent   \n",
              "4516    2014    NaN       Geoff Swaim           Texas      Y           Big 12   \n",
              "4517    2013    NaN     Rory Anderson  South Carolina      Y              SEC   \n",
              "4518    2014    NaN     Rory Anderson  South Carolina      Y              SEC   \n",
              "4519    2013    NaN  C.J. Fiedorowicz            Iowa      Y          Big Ten   \n",
              "\n",
              "     Division   Cl Pos   G  Rec  Rec Yds  Rec TD  \n",
              "0         FCS  Jr.  TE  12   34      441       5  \n",
              "1         FBS  Jr.  WR  12   85     1320       6  \n",
              "2         FBS  So.  WR  12   75     1252      11  \n",
              "3         FBS  Sr.  WR  14   43      551       3  \n",
              "4         FCS  Sr.  WR  12   48      633       4  \n",
              "...       ...  ...  ..  ..  ...      ...     ...  \n",
              "4515      FBS  Sr.  TE  13   30      317       2  \n",
              "4516      FBS  Sr.  TE  13   10       70       1  \n",
              "4517      FBS  Jr.  TE  12   17      235       0  \n",
              "4518      FBS  Sr.  TE  10   22      260       1  \n",
              "4519      FBS  Sr.  TE  13   30      299       6  \n",
              "\n",
              "[4520 rows x 13 columns]"
            ],
            "text/html": [
              "\n",
              "  <div id=\"df-4205d0fa-c77c-47bc-83a2-753030d69354\" class=\"colab-df-container\">\n",
              "    <div>\n",
              "<style scoped>\n",
              "    .dataframe tbody tr th:only-of-type {\n",
              "        vertical-align: middle;\n",
              "    }\n",
              "\n",
              "    .dataframe tbody tr th {\n",
              "        vertical-align: top;\n",
              "    }\n",
              "\n",
              "    .dataframe thead th {\n",
              "        text-align: right;\n",
              "    }\n",
              "</style>\n",
              "<table border=\"1\" class=\"dataframe\">\n",
              "  <thead>\n",
              "    <tr style=\"text-align: right;\">\n",
              "      <th></th>\n",
              "      <th>Season</th>\n",
              "      <th>Rank</th>\n",
              "      <th>Player</th>\n",
              "      <th>School</th>\n",
              "      <th>Power5</th>\n",
              "      <th>Conference</th>\n",
              "      <th>Division</th>\n",
              "      <th>Cl</th>\n",
              "      <th>Pos</th>\n",
              "      <th>G</th>\n",
              "      <th>Rec</th>\n",
              "      <th>Rec Yds</th>\n",
              "      <th>Rec TD</th>\n",
              "    </tr>\n",
              "  </thead>\n",
              "  <tbody>\n",
              "    <tr>\n",
              "      <th>0</th>\n",
              "      <td>2013</td>\n",
              "      <td>204.0</td>\n",
              "      <td>A.C. Leonard</td>\n",
              "      <td>Tennessee St.</td>\n",
              "      <td>N</td>\n",
              "      <td>OVC</td>\n",
              "      <td>FCS</td>\n",
              "      <td>Jr.</td>\n",
              "      <td>TE</td>\n",
              "      <td>12</td>\n",
              "      <td>34</td>\n",
              "      <td>441</td>\n",
              "      <td>5</td>\n",
              "    </tr>\n",
              "    <tr>\n",
              "      <th>1</th>\n",
              "      <td>2018</td>\n",
              "      <td>7.0</td>\n",
              "      <td>A.J. Brown</td>\n",
              "      <td>Ole Miss</td>\n",
              "      <td>Y</td>\n",
              "      <td>SEC</td>\n",
              "      <td>FBS</td>\n",
              "      <td>Jr.</td>\n",
              "      <td>WR</td>\n",
              "      <td>12</td>\n",
              "      <td>85</td>\n",
              "      <td>1320</td>\n",
              "      <td>6</td>\n",
              "    </tr>\n",
              "    <tr>\n",
              "      <th>2</th>\n",
              "      <td>2017</td>\n",
              "      <td>10.0</td>\n",
              "      <td>A.J. Brown</td>\n",
              "      <td>Ole Miss</td>\n",
              "      <td>Y</td>\n",
              "      <td>SEC</td>\n",
              "      <td>FBS</td>\n",
              "      <td>So.</td>\n",
              "      <td>WR</td>\n",
              "      <td>12</td>\n",
              "      <td>75</td>\n",
              "      <td>1252</td>\n",
              "      <td>11</td>\n",
              "    </tr>\n",
              "    <tr>\n",
              "      <th>3</th>\n",
              "      <td>2017</td>\n",
              "      <td>186.0</td>\n",
              "      <td>A.J. Coney</td>\n",
              "      <td>Akron</td>\n",
              "      <td>N</td>\n",
              "      <td>MAC</td>\n",
              "      <td>FBS</td>\n",
              "      <td>Sr.</td>\n",
              "      <td>WR</td>\n",
              "      <td>14</td>\n",
              "      <td>43</td>\n",
              "      <td>551</td>\n",
              "      <td>3</td>\n",
              "    </tr>\n",
              "    <tr>\n",
              "      <th>4</th>\n",
              "      <td>2014</td>\n",
              "      <td>107.0</td>\n",
              "      <td>A.J. Johnson</td>\n",
              "      <td>Indiana St.</td>\n",
              "      <td>N</td>\n",
              "      <td>MVFC</td>\n",
              "      <td>FCS</td>\n",
              "      <td>Sr.</td>\n",
              "      <td>WR</td>\n",
              "      <td>12</td>\n",
              "      <td>48</td>\n",
              "      <td>633</td>\n",
              "      <td>4</td>\n",
              "    </tr>\n",
              "    <tr>\n",
              "      <th>...</th>\n",
              "      <td>...</td>\n",
              "      <td>...</td>\n",
              "      <td>...</td>\n",
              "      <td>...</td>\n",
              "      <td>...</td>\n",
              "      <td>...</td>\n",
              "      <td>...</td>\n",
              "      <td>...</td>\n",
              "      <td>...</td>\n",
              "      <td>...</td>\n",
              "      <td>...</td>\n",
              "      <td>...</td>\n",
              "      <td>...</td>\n",
              "    </tr>\n",
              "    <tr>\n",
              "      <th>4515</th>\n",
              "      <td>2014</td>\n",
              "      <td>NaN</td>\n",
              "      <td>Ben Koyack</td>\n",
              "      <td>Notre Dame</td>\n",
              "      <td>N</td>\n",
              "      <td>FBS Independent</td>\n",
              "      <td>FBS</td>\n",
              "      <td>Sr.</td>\n",
              "      <td>TE</td>\n",
              "      <td>13</td>\n",
              "      <td>30</td>\n",
              "      <td>317</td>\n",
              "      <td>2</td>\n",
              "    </tr>\n",
              "    <tr>\n",
              "      <th>4516</th>\n",
              "      <td>2014</td>\n",
              "      <td>NaN</td>\n",
              "      <td>Geoff Swaim</td>\n",
              "      <td>Texas</td>\n",
              "      <td>Y</td>\n",
              "      <td>Big 12</td>\n",
              "      <td>FBS</td>\n",
              "      <td>Sr.</td>\n",
              "      <td>TE</td>\n",
              "      <td>13</td>\n",
              "      <td>10</td>\n",
              "      <td>70</td>\n",
              "      <td>1</td>\n",
              "    </tr>\n",
              "    <tr>\n",
              "      <th>4517</th>\n",
              "      <td>2013</td>\n",
              "      <td>NaN</td>\n",
              "      <td>Rory Anderson</td>\n",
              "      <td>South Carolina</td>\n",
              "      <td>Y</td>\n",
              "      <td>SEC</td>\n",
              "      <td>FBS</td>\n",
              "      <td>Jr.</td>\n",
              "      <td>TE</td>\n",
              "      <td>12</td>\n",
              "      <td>17</td>\n",
              "      <td>235</td>\n",
              "      <td>0</td>\n",
              "    </tr>\n",
              "    <tr>\n",
              "      <th>4518</th>\n",
              "      <td>2014</td>\n",
              "      <td>NaN</td>\n",
              "      <td>Rory Anderson</td>\n",
              "      <td>South Carolina</td>\n",
              "      <td>Y</td>\n",
              "      <td>SEC</td>\n",
              "      <td>FBS</td>\n",
              "      <td>Sr.</td>\n",
              "      <td>TE</td>\n",
              "      <td>10</td>\n",
              "      <td>22</td>\n",
              "      <td>260</td>\n",
              "      <td>1</td>\n",
              "    </tr>\n",
              "    <tr>\n",
              "      <th>4519</th>\n",
              "      <td>2013</td>\n",
              "      <td>NaN</td>\n",
              "      <td>C.J. Fiedorowicz</td>\n",
              "      <td>Iowa</td>\n",
              "      <td>Y</td>\n",
              "      <td>Big Ten</td>\n",
              "      <td>FBS</td>\n",
              "      <td>Sr.</td>\n",
              "      <td>TE</td>\n",
              "      <td>13</td>\n",
              "      <td>30</td>\n",
              "      <td>299</td>\n",
              "      <td>6</td>\n",
              "    </tr>\n",
              "  </tbody>\n",
              "</table>\n",
              "<p>4520 rows × 13 columns</p>\n",
              "</div>\n",
              "    <div class=\"colab-df-buttons\">\n",
              "\n",
              "  <div class=\"colab-df-container\">\n",
              "    <button class=\"colab-df-convert\" onclick=\"convertToInteractive('df-4205d0fa-c77c-47bc-83a2-753030d69354')\"\n",
              "            title=\"Convert this dataframe to an interactive table.\"\n",
              "            style=\"display:none;\">\n",
              "\n",
              "  <svg xmlns=\"http://www.w3.org/2000/svg\" height=\"24px\" viewBox=\"0 -960 960 960\">\n",
              "    <path d=\"M120-120v-720h720v720H120Zm60-500h600v-160H180v160Zm220 220h160v-160H400v160Zm0 220h160v-160H400v160ZM180-400h160v-160H180v160Zm440 0h160v-160H620v160ZM180-180h160v-160H180v160Zm440 0h160v-160H620v160Z\"/>\n",
              "  </svg>\n",
              "    </button>\n",
              "\n",
              "  <style>\n",
              "    .colab-df-container {\n",
              "      display:flex;\n",
              "      gap: 12px;\n",
              "    }\n",
              "\n",
              "    .colab-df-convert {\n",
              "      background-color: #E8F0FE;\n",
              "      border: none;\n",
              "      border-radius: 50%;\n",
              "      cursor: pointer;\n",
              "      display: none;\n",
              "      fill: #1967D2;\n",
              "      height: 32px;\n",
              "      padding: 0 0 0 0;\n",
              "      width: 32px;\n",
              "    }\n",
              "\n",
              "    .colab-df-convert:hover {\n",
              "      background-color: #E2EBFA;\n",
              "      box-shadow: 0px 1px 2px rgba(60, 64, 67, 0.3), 0px 1px 3px 1px rgba(60, 64, 67, 0.15);\n",
              "      fill: #174EA6;\n",
              "    }\n",
              "\n",
              "    .colab-df-buttons div {\n",
              "      margin-bottom: 4px;\n",
              "    }\n",
              "\n",
              "    [theme=dark] .colab-df-convert {\n",
              "      background-color: #3B4455;\n",
              "      fill: #D2E3FC;\n",
              "    }\n",
              "\n",
              "    [theme=dark] .colab-df-convert:hover {\n",
              "      background-color: #434B5C;\n",
              "      box-shadow: 0px 1px 3px 1px rgba(0, 0, 0, 0.15);\n",
              "      filter: drop-shadow(0px 1px 2px rgba(0, 0, 0, 0.3));\n",
              "      fill: #FFFFFF;\n",
              "    }\n",
              "  </style>\n",
              "\n",
              "    <script>\n",
              "      const buttonEl =\n",
              "        document.querySelector('#df-4205d0fa-c77c-47bc-83a2-753030d69354 button.colab-df-convert');\n",
              "      buttonEl.style.display =\n",
              "        google.colab.kernel.accessAllowed ? 'block' : 'none';\n",
              "\n",
              "      async function convertToInteractive(key) {\n",
              "        const element = document.querySelector('#df-4205d0fa-c77c-47bc-83a2-753030d69354');\n",
              "        const dataTable =\n",
              "          await google.colab.kernel.invokeFunction('convertToInteractive',\n",
              "                                                    [key], {});\n",
              "        if (!dataTable) return;\n",
              "\n",
              "        const docLinkHtml = 'Like what you see? Visit the ' +\n",
              "          '<a target=\"_blank\" href=https://colab.research.google.com/notebooks/data_table.ipynb>data table notebook</a>'\n",
              "          + ' to learn more about interactive tables.';\n",
              "        element.innerHTML = '';\n",
              "        dataTable['output_type'] = 'display_data';\n",
              "        await google.colab.output.renderOutput(dataTable, element);\n",
              "        const docLink = document.createElement('div');\n",
              "        docLink.innerHTML = docLinkHtml;\n",
              "        element.appendChild(docLink);\n",
              "      }\n",
              "    </script>\n",
              "  </div>\n",
              "\n",
              "\n",
              "<div id=\"df-3612f144-7f6c-42d0-aedf-898684201d07\">\n",
              "  <button class=\"colab-df-quickchart\" onclick=\"quickchart('df-3612f144-7f6c-42d0-aedf-898684201d07')\"\n",
              "            title=\"Suggest charts\"\n",
              "            style=\"display:none;\">\n",
              "\n",
              "<svg xmlns=\"http://www.w3.org/2000/svg\" height=\"24px\"viewBox=\"0 0 24 24\"\n",
              "     width=\"24px\">\n",
              "    <g>\n",
              "        <path d=\"M19 3H5c-1.1 0-2 .9-2 2v14c0 1.1.9 2 2 2h14c1.1 0 2-.9 2-2V5c0-1.1-.9-2-2-2zM9 17H7v-7h2v7zm4 0h-2V7h2v10zm4 0h-2v-4h2v4z\"/>\n",
              "    </g>\n",
              "</svg>\n",
              "  </button>\n",
              "\n",
              "<style>\n",
              "  .colab-df-quickchart {\n",
              "      --bg-color: #E8F0FE;\n",
              "      --fill-color: #1967D2;\n",
              "      --hover-bg-color: #E2EBFA;\n",
              "      --hover-fill-color: #174EA6;\n",
              "      --disabled-fill-color: #AAA;\n",
              "      --disabled-bg-color: #DDD;\n",
              "  }\n",
              "\n",
              "  [theme=dark] .colab-df-quickchart {\n",
              "      --bg-color: #3B4455;\n",
              "      --fill-color: #D2E3FC;\n",
              "      --hover-bg-color: #434B5C;\n",
              "      --hover-fill-color: #FFFFFF;\n",
              "      --disabled-bg-color: #3B4455;\n",
              "      --disabled-fill-color: #666;\n",
              "  }\n",
              "\n",
              "  .colab-df-quickchart {\n",
              "    background-color: var(--bg-color);\n",
              "    border: none;\n",
              "    border-radius: 50%;\n",
              "    cursor: pointer;\n",
              "    display: none;\n",
              "    fill: var(--fill-color);\n",
              "    height: 32px;\n",
              "    padding: 0;\n",
              "    width: 32px;\n",
              "  }\n",
              "\n",
              "  .colab-df-quickchart:hover {\n",
              "    background-color: var(--hover-bg-color);\n",
              "    box-shadow: 0 1px 2px rgba(60, 64, 67, 0.3), 0 1px 3px 1px rgba(60, 64, 67, 0.15);\n",
              "    fill: var(--button-hover-fill-color);\n",
              "  }\n",
              "\n",
              "  .colab-df-quickchart-complete:disabled,\n",
              "  .colab-df-quickchart-complete:disabled:hover {\n",
              "    background-color: var(--disabled-bg-color);\n",
              "    fill: var(--disabled-fill-color);\n",
              "    box-shadow: none;\n",
              "  }\n",
              "\n",
              "  .colab-df-spinner {\n",
              "    border: 2px solid var(--fill-color);\n",
              "    border-color: transparent;\n",
              "    border-bottom-color: var(--fill-color);\n",
              "    animation:\n",
              "      spin 1s steps(1) infinite;\n",
              "  }\n",
              "\n",
              "  @keyframes spin {\n",
              "    0% {\n",
              "      border-color: transparent;\n",
              "      border-bottom-color: var(--fill-color);\n",
              "      border-left-color: var(--fill-color);\n",
              "    }\n",
              "    20% {\n",
              "      border-color: transparent;\n",
              "      border-left-color: var(--fill-color);\n",
              "      border-top-color: var(--fill-color);\n",
              "    }\n",
              "    30% {\n",
              "      border-color: transparent;\n",
              "      border-left-color: var(--fill-color);\n",
              "      border-top-color: var(--fill-color);\n",
              "      border-right-color: var(--fill-color);\n",
              "    }\n",
              "    40% {\n",
              "      border-color: transparent;\n",
              "      border-right-color: var(--fill-color);\n",
              "      border-top-color: var(--fill-color);\n",
              "    }\n",
              "    60% {\n",
              "      border-color: transparent;\n",
              "      border-right-color: var(--fill-color);\n",
              "    }\n",
              "    80% {\n",
              "      border-color: transparent;\n",
              "      border-right-color: var(--fill-color);\n",
              "      border-bottom-color: var(--fill-color);\n",
              "    }\n",
              "    90% {\n",
              "      border-color: transparent;\n",
              "      border-bottom-color: var(--fill-color);\n",
              "    }\n",
              "  }\n",
              "</style>\n",
              "\n",
              "  <script>\n",
              "    async function quickchart(key) {\n",
              "      const quickchartButtonEl =\n",
              "        document.querySelector('#' + key + ' button');\n",
              "      quickchartButtonEl.disabled = true;  // To prevent multiple clicks.\n",
              "      quickchartButtonEl.classList.add('colab-df-spinner');\n",
              "      try {\n",
              "        const charts = await google.colab.kernel.invokeFunction(\n",
              "            'suggestCharts', [key], {});\n",
              "      } catch (error) {\n",
              "        console.error('Error during call to suggestCharts:', error);\n",
              "      }\n",
              "      quickchartButtonEl.classList.remove('colab-df-spinner');\n",
              "      quickchartButtonEl.classList.add('colab-df-quickchart-complete');\n",
              "    }\n",
              "    (() => {\n",
              "      let quickchartButtonEl =\n",
              "        document.querySelector('#df-3612f144-7f6c-42d0-aedf-898684201d07 button');\n",
              "      quickchartButtonEl.style.display =\n",
              "        google.colab.kernel.accessAllowed ? 'block' : 'none';\n",
              "    })();\n",
              "  </script>\n",
              "</div>\n",
              "    </div>\n",
              "  </div>\n"
            ],
            "application/vnd.google.colaboratory.intrinsic+json": {
              "type": "dataframe",
              "variable_name": "college_receiving_raw",
              "summary": "{\n  \"name\": \"college_receiving_raw\",\n  \"rows\": 4520,\n  \"fields\": [\n    {\n      \"column\": \"Season\",\n      \"properties\": {\n        \"dtype\": \"number\",\n        \"std\": 3,\n        \"min\": 2013,\n        \"max\": 2024,\n        \"num_unique_values\": 12,\n        \"samples\": [\n          2023,\n          2015,\n          2013\n        ],\n        \"semantic_type\": \"\",\n        \"description\": \"\"\n      }\n    },\n    {\n      \"column\": \"Rank\",\n      \"properties\": {\n        \"dtype\": \"number\",\n        \"std\": 81.79024141345128,\n        \"min\": 1.0,\n        \"max\": 400.0,\n        \"num_unique_values\": 365,\n        \"samples\": [\n          270.0,\n          60.0,\n          397.0\n        ],\n        \"semantic_type\": \"\",\n        \"description\": \"\"\n      }\n    },\n    {\n      \"column\": \"Player\",\n      \"properties\": {\n        \"dtype\": \"string\",\n        \"num_unique_values\": 2874,\n        \"samples\": [\n          \"Demarquo Lastrappe\",\n          \"Nate Stanley\",\n          \"Jaris Scott\"\n        ],\n        \"semantic_type\": \"\",\n        \"description\": \"\"\n      }\n    },\n    {\n      \"column\": \"School\",\n      \"properties\": {\n        \"dtype\": \"category\",\n        \"num_unique_values\": 256,\n        \"samples\": [\n          \"Missouri St.\",\n          \"Wake Forest\",\n          \"Eastern Wash.\"\n        ],\n        \"semantic_type\": \"\",\n        \"description\": \"\"\n      }\n    },\n    {\n      \"column\": \"Power5\",\n      \"properties\": {\n        \"dtype\": \"category\",\n        \"num_unique_values\": 2,\n        \"samples\": [\n          \"Y\",\n          \"N\"\n        ],\n        \"semantic_type\": \"\",\n        \"description\": \"\"\n      }\n    },\n    {\n      \"column\": \"Conference\",\n      \"properties\": {\n        \"dtype\": \"category\",\n        \"num_unique_values\": 28,\n        \"samples\": [\n          \"CUSA\",\n          \"FCS Independent\"\n        ],\n        \"semantic_type\": \"\",\n        \"description\": \"\"\n      }\n    },\n    {\n      \"column\": \"Division\",\n      \"properties\": {\n        \"dtype\": \"category\",\n        \"num_unique_values\": 2,\n        \"samples\": [\n          \"FBS\",\n          \"FCS\"\n        ],\n        \"semantic_type\": \"\",\n        \"description\": \"\"\n      }\n    },\n    {\n      \"column\": \"Cl\",\n      \"properties\": {\n        \"dtype\": \"category\",\n        \"num_unique_values\": 5,\n        \"samples\": [\n          \"So.\",\n          \"---\"\n        ],\n        \"semantic_type\": \"\",\n        \"description\": \"\"\n      }\n    },\n    {\n      \"column\": \"Pos\",\n      \"properties\": {\n        \"dtype\": \"category\",\n        \"num_unique_values\": 9,\n        \"samples\": [\n          \"DL\",\n          \"WR\"\n        ],\n        \"semantic_type\": \"\",\n        \"description\": \"\"\n      }\n    },\n    {\n      \"column\": \"G\",\n      \"properties\": {\n        \"dtype\": \"number\",\n        \"std\": 1,\n        \"min\": 2,\n        \"max\": 16,\n        \"num_unique_values\": 15,\n        \"samples\": [\n          15,\n          16\n        ],\n        \"semantic_type\": \"\",\n        \"description\": \"\"\n      }\n    },\n    {\n      \"column\": \"Rec\",\n      \"properties\": {\n        \"dtype\": \"number\",\n        \"std\": 18,\n        \"min\": 1,\n        \"max\": 158,\n        \"num_unique_values\": 123,\n        \"samples\": [\n          65,\n          79\n        ],\n        \"semantic_type\": \"\",\n        \"description\": \"\"\n      }\n    },\n    {\n      \"column\": \"Rec Yds\",\n      \"properties\": {\n        \"dtype\": \"number\",\n        \"std\": 263,\n        \"min\": 15,\n        \"max\": 1902,\n        \"num_unique_values\": 1134,\n        \"samples\": [\n          1404,\n          321\n        ],\n        \"semantic_type\": \"\",\n        \"description\": \"\"\n      }\n    },\n    {\n      \"column\": \"Rec TD\",\n      \"properties\": {\n        \"dtype\": \"number\",\n        \"std\": 3,\n        \"min\": 0,\n        \"max\": 24,\n        \"num_unique_values\": 24,\n        \"samples\": [\n          0,\n          16\n        ],\n        \"semantic_type\": \"\",\n        \"description\": \"\"\n      }\n    }\n  ]\n}"
            }
          },
          "metadata": {}
        }
      ]
    },
    {
      "cell_type": "code",
      "source": [
        "## Data Preparation ##\n",
        "\n",
        "# Establish copies #\n",
        "nfl_draft = nfl_draft_raw.copy()\n",
        "college_passing = college_passing_raw.copy()\n",
        "college_rushing = college_rushing_raw.copy()\n",
        "college_receiving = college_receiving_raw.copy()\n",
        "\n",
        "# Remove Freshman from the 2023 season as they are not eligible for this upcoming draft (or any draft) #\n",
        "# It is okay to leave Freshman in for every other season because they will have been eligible for the NFL draft at some point #\n",
        "#(Freshman in 2022 -> not eligible for draft in 2022, but is eligible for draft in 2023 when they are a sophomore)#\n",
        "# If I don't remove these players it will impact the results of the model (i.e. A freshman could have an awesome season, but he will still be labeled as undrafted) #\n",
        "# NFL Draft rules state a player must be out of high school for at least 3 years before being eligible to be drafted, the data collected does not list Red Shirt seasons, so #\n",
        "# for simplicity, I will just exclude players labeled as freshman. This is not great, but it is the only way I have currently thought of to do this #\n",
        "college_passing = college_passing[~((college_passing['Season'] == 2023) & (college_passing['Cl'] == 'Fr.'))]\n",
        "college_rushing = college_rushing[~((college_rushing['Season'] == 2023) & (college_rushing['Cl'] == 'Fr.'))]\n",
        "college_receiving = college_receiving[~((college_receiving['Season'] == 2023) & (college_receiving['Cl'] == 'Fr.'))]\n",
        "\n",
        "# Drop unnecessary columns from datasets #\n",
        "nfl_draft = nfl_draft[['DraftYear','Pos','Pick','Player']]\n",
        "college_passing = college_passing[['Player','Pos','Division','Conference','Power5','School','G','Pass Com','Pass Att','Pass Yds','Pass TD','Int']]\n",
        "college_rushing = college_rushing[['Player','Pos','Division','Conference','Power5','School','G','Rush','Rush Yds','Rush TD']]\n",
        "college_receiving = college_receiving[['Player','Pos','Division','Conference','Power5','School','G','Rec','Rec Yds','Rec TD']]\n",
        "\n",
        "# Manipulate/Create new variable for each position to indicate which number at the respective position they were drafted #\n",
        "quarterback_draft = nfl_draft[nfl_draft['Pos']=='QB'].copy()\n",
        "quarterback_draft['position_pick_number'] = quarterback_draft.groupby('DraftYear')['Pick'].rank().astype(int)\n",
        "quarterback_draft = quarterback_draft[['Player','position_pick_number']]\n",
        "\n",
        "running_back_draft = nfl_draft[nfl_draft['Pos']=='RB'].copy()\n",
        "running_back_draft['position_pick_number'] = running_back_draft.groupby('DraftYear')['Pick'].rank().astype(int)\n",
        "running_back_draft = running_back_draft[['Player','position_pick_number']]\n",
        "\n",
        "wide_receiver_draft = nfl_draft[nfl_draft['Pos']=='WR'].copy()\n",
        "wide_receiver_draft['position_pick_number'] = wide_receiver_draft.groupby('DraftYear')['Pick'].rank().astype(int)\n",
        "wide_receiver_draft = wide_receiver_draft[['Player','position_pick_number']]\n",
        "\n",
        "tight_end_draft = nfl_draft[nfl_draft['Pos']=='TE'].copy()\n",
        "tight_end_draft['position_pick_number'] = tight_end_draft.groupby('DraftYear')['Pick'].rank().astype(int)\n",
        "tight_end_draft = tight_end_draft[['Player','position_pick_number']]\n",
        "\n",
        "# display(college_passing)\n",
        "# display(college_rushing)\n",
        "# display(college_receiving)\n",
        "# display(quarterback_draft)\n",
        "# display(running_back_draft)\n",
        "# display(wide_receiver_draft)\n",
        "# display(tight_end_draft)"
      ],
      "metadata": {
        "id": "mW7lZT7fgjiq"
      },
      "execution_count": 56,
      "outputs": []
    },
    {
      "cell_type": "code",
      "source": [
        "## Data Preparation ##\n",
        "\n",
        "# Aggregate player data to get career stats instead of individual season stats #\n",
        "\n",
        "# Quarterback Passing #\n",
        "career_stats_qb_passing = college_passing.copy()\n",
        "career_stats_qb_passing = career_stats_qb_passing[career_stats_qb_passing['Pos']=='QB']\n",
        "career_stats_qb_passing = career_stats_qb_passing.groupby(['Player','Division','Conference','Power5','School']).sum().reset_index()\n",
        "career_stats_qb_passing['Pass_Yds/Att'] = (career_stats_qb_passing['Pass Yds'] / career_stats_qb_passing['Pass Att']).round(1)\n",
        "career_stats_qb_passing['Pass_Yds/G'] = (career_stats_qb_passing['Pass Yds'] / career_stats_qb_passing['G']).round(1)\n",
        "career_stats_qb_passing['Pass_Com/G'] = (career_stats_qb_passing['Pass Com'] / career_stats_qb_passing['G']).round(1)\n",
        "career_stats_qb_passing['Pass_TD/G'] = (career_stats_qb_passing['Pass TD'] / career_stats_qb_passing['G']).round(1)\n",
        "career_stats_qb_passing['Int/G'] = (career_stats_qb_passing['Int'] / career_stats_qb_passing['G']).round(1)\n",
        "\n",
        "# Running Back Rushing #\n",
        "career_stats_rb_rushing = college_rushing.copy()\n",
        "career_stats_rb_rushing = career_stats_rb_rushing[career_stats_rb_rushing['Pos']=='RB']\n",
        "career_stats_rb_rushing = career_stats_rb_rushing.groupby(['Player','Division','Conference','Power5','School']).sum().reset_index()\n",
        "career_stats_rb_rushing['Rush Yds/Att'] = (career_stats_rb_rushing['Rush Yds'] / career_stats_rb_rushing['Rush']).round(1)\n",
        "career_stats_rb_rushing['Rush Yds/G'] = (career_stats_rb_rushing['Rush Yds'] / career_stats_rb_rushing['G']).round(1)\n",
        "career_stats_rb_rushing['Rush TD/G'] = (career_stats_rb_rushing['Rush TD'] / career_stats_rb_rushing['G']).round(1)\n",
        "\n",
        "# Wide Receiver Receiving #\n",
        "career_stats_wr_receiving = college_receiving.copy()\n",
        "career_stats_wr_receiving = career_stats_wr_receiving[career_stats_wr_receiving['Pos']=='WR']\n",
        "career_stats_wr_receiving = career_stats_wr_receiving.groupby(['Player','Division','Conference','Power5','School']).sum().reset_index()\n",
        "career_stats_wr_receiving['Rec Yds/Rec'] = (career_stats_wr_receiving['Rec Yds'] / career_stats_wr_receiving['Rec']).round(1)\n",
        "career_stats_wr_receiving['Rec Yds/G'] = (career_stats_wr_receiving['Rec Yds'] / career_stats_wr_receiving['G']).round(1)\n",
        "career_stats_wr_receiving['Rec TD/G'] = (career_stats_wr_receiving['Rec TD'] / career_stats_wr_receiving['G']).round(1)\n",
        "\n",
        "\n",
        "# Tight End Receiving #\n",
        "career_stats_te_receiving = college_receiving.copy()\n",
        "career_stats_te_receiving = career_stats_te_receiving[career_stats_te_receiving['Pos']=='TE']\n",
        "career_stats_te_receiving = career_stats_te_receiving.groupby(['Player','Division','Conference','Power5','School']).sum().reset_index()\n",
        "career_stats_te_receiving['Rec Yds/Rec'] = (career_stats_te_receiving['Rec Yds'] / career_stats_te_receiving['Rec']).round(1)\n",
        "career_stats_te_receiving['Rec Yds/G'] = (career_stats_te_receiving['Rec Yds'] / career_stats_te_receiving['G']).round(1)\n",
        "career_stats_te_receiving['Rec TD/G'] = (career_stats_te_receiving['Rec TD'] / career_stats_te_receiving['G']).round(1)\n",
        "\n",
        "# display(career_stats_qb_passing)\n",
        "# display(career_stats_rb_rushing)\n",
        "# display(career_stats_wr_receiving)\n",
        "# display(career_stats_te_receiving)"
      ],
      "metadata": {
        "id": "E1jRYFeyhpKq"
      },
      "execution_count": 57,
      "outputs": []
    },
    {
      "cell_type": "code",
      "source": [
        "## Merge Performance dataframes with Draft dataframes ##\n",
        "\n",
        "final_qb_data = pd.merge(career_stats_qb_passing, quarterback_draft,on='Player',how='left')\n",
        "final_rb_data = pd.merge(career_stats_rb_rushing, running_back_draft,on='Player',how='left')\n",
        "final_wr_data = pd.merge(career_stats_wr_receiving, wide_receiver_draft,on='Player',how='left')\n",
        "final_te_data = pd.merge(career_stats_te_receiving, tight_end_draft,on='Player',how='left')\n",
        "\n",
        "# Create function to determine if a player is drafted or not #\n",
        "def drafted_or_not(value):\n",
        "    if np.isnan(value):\n",
        "        return 'N'\n",
        "    else:\n",
        "        return 'Y'\n",
        "\n",
        "# Add a new column \"Drafted?\" based on the condition #\n",
        "final_qb_data['Drafted?'] = final_qb_data['position_pick_number'].apply(drafted_or_not)\n",
        "final_rb_data['Drafted?'] = final_rb_data['position_pick_number'].apply(drafted_or_not)\n",
        "final_wr_data['Drafted?'] = final_wr_data['position_pick_number'].apply(drafted_or_not)\n",
        "final_te_data['Drafted?'] = final_te_data['position_pick_number'].apply(drafted_or_not)\n",
        "\n",
        "# Fill NaN values in position_pick_number #\n",
        "final_qb_data['position_pick_number'] = final_qb_data['position_pick_number'].fillna('Undrafted')\n",
        "final_rb_data['position_pick_number'] = final_rb_data['position_pick_number'].fillna('Undrafted')\n",
        "final_wr_data['position_pick_number'] = final_wr_data['position_pick_number'].fillna('Undrafted')\n",
        "final_te_data['position_pick_number'] = final_te_data['position_pick_number'].fillna('Undrafted')\n",
        "\n",
        "# Rearrange columns #\n",
        "final_qb_data = final_qb_data[['Player','Division','Conference','Power5','School','Drafted?','position_pick_number','G','Pass Com','Pass Att','Pass Yds','Pass TD','Int','Pass_Yds/Att','Pass_Com/G','Pass_Yds/G',\n",
        "                               'Pass_TD/G','Int/G']]\n",
        "final_rb_data = final_rb_data[['Player','Division','Conference','Power5','School','Drafted?','position_pick_number','G','Rush','Rush Yds','Rush TD','Rush Yds/Att','Rush Yds/G','Rush TD/G']]\n",
        "final_wr_data = final_wr_data[['Player','Division','Conference','Power5','School','Drafted?','position_pick_number','G','Rec','Rec Yds','Rec TD','Rec Yds/Rec','Rec Yds/G','Rec TD/G']]\n",
        "final_te_data = final_te_data[['Player','Division','Conference','Power5','School','Drafted?','position_pick_number','G','Rec','Rec Yds','Rec TD','Rec Yds/Rec','Rec Yds/G','Rec TD/G']]\n"
      ],
      "metadata": {
        "id": "e8tjcsgXhw8z"
      },
      "execution_count": 58,
      "outputs": []
    },
    {
      "cell_type": "code",
      "source": [
        "###Quarterback GB Model###\n",
        "\n",
        "# Label Encoding for 'Division' and 'Power5 columns\n",
        "label_encoder = LabelEncoder()\n",
        "final_qb_data['Division'] = label_encoder.fit_transform(final_qb_data['Division'])\n",
        "final_qb_data['Power5'] = label_encoder.fit_transform(final_qb_data['Power5'])\n",
        "\n",
        "# Establish X and y dataframes for the model #\n",
        "X_quarterback = final_qb_data[['Power5','Division','Pass_Com/G','Pass_Yds/Att','Pass_Yds/G','Pass_TD/G','Int/G']]\n",
        "y_quarterback = final_qb_data['Drafted?']\n",
        "# Split the data into a training set (80%) and a testing set (20%)\n",
        "X_train_quarterback, X_test_quarterback, Y_train_quarterback, Y_test_quarterback = train_test_split(X_quarterback, y_quarterback, test_size=0.15, random_state=23)\n"
      ],
      "metadata": {
        "id": "cTRPwcDWiOaw"
      },
      "execution_count": 127,
      "outputs": []
    },
    {
      "cell_type": "code",
      "source": [
        "#Set model\n",
        "model = GradientBoostingClassifier()"
      ],
      "metadata": {
        "id": "SyKDmgoZlEVu"
      },
      "execution_count": 128,
      "outputs": []
    },
    {
      "cell_type": "code",
      "source": [
        "#fit model to training data set\n",
        "model.fit(X_train_quarterback,Y_train_quarterback)"
      ],
      "metadata": {
        "colab": {
          "base_uri": "https://localhost:8080/",
          "height": 74
        },
        "id": "yHh9g5oqj4yU",
        "outputId": "6cd1aa78-ba70-4d68-bfc8-1bf6572a4f83"
      },
      "execution_count": 129,
      "outputs": [
        {
          "output_type": "execute_result",
          "data": {
            "text/plain": [
              "GradientBoostingClassifier()"
            ],
            "text/html": [
              "<style>#sk-container-id-16 {color: black;background-color: white;}#sk-container-id-16 pre{padding: 0;}#sk-container-id-16 div.sk-toggleable {background-color: white;}#sk-container-id-16 label.sk-toggleable__label {cursor: pointer;display: block;width: 100%;margin-bottom: 0;padding: 0.3em;box-sizing: border-box;text-align: center;}#sk-container-id-16 label.sk-toggleable__label-arrow:before {content: \"▸\";float: left;margin-right: 0.25em;color: #696969;}#sk-container-id-16 label.sk-toggleable__label-arrow:hover:before {color: black;}#sk-container-id-16 div.sk-estimator:hover label.sk-toggleable__label-arrow:before {color: black;}#sk-container-id-16 div.sk-toggleable__content {max-height: 0;max-width: 0;overflow: hidden;text-align: left;background-color: #f0f8ff;}#sk-container-id-16 div.sk-toggleable__content pre {margin: 0.2em;color: black;border-radius: 0.25em;background-color: #f0f8ff;}#sk-container-id-16 input.sk-toggleable__control:checked~div.sk-toggleable__content {max-height: 200px;max-width: 100%;overflow: auto;}#sk-container-id-16 input.sk-toggleable__control:checked~label.sk-toggleable__label-arrow:before {content: \"▾\";}#sk-container-id-16 div.sk-estimator input.sk-toggleable__control:checked~label.sk-toggleable__label {background-color: #d4ebff;}#sk-container-id-16 div.sk-label input.sk-toggleable__control:checked~label.sk-toggleable__label {background-color: #d4ebff;}#sk-container-id-16 input.sk-hidden--visually {border: 0;clip: rect(1px 1px 1px 1px);clip: rect(1px, 1px, 1px, 1px);height: 1px;margin: -1px;overflow: hidden;padding: 0;position: absolute;width: 1px;}#sk-container-id-16 div.sk-estimator {font-family: monospace;background-color: #f0f8ff;border: 1px dotted black;border-radius: 0.25em;box-sizing: border-box;margin-bottom: 0.5em;}#sk-container-id-16 div.sk-estimator:hover {background-color: #d4ebff;}#sk-container-id-16 div.sk-parallel-item::after {content: \"\";width: 100%;border-bottom: 1px solid gray;flex-grow: 1;}#sk-container-id-16 div.sk-label:hover label.sk-toggleable__label {background-color: #d4ebff;}#sk-container-id-16 div.sk-serial::before {content: \"\";position: absolute;border-left: 1px solid gray;box-sizing: border-box;top: 0;bottom: 0;left: 50%;z-index: 0;}#sk-container-id-16 div.sk-serial {display: flex;flex-direction: column;align-items: center;background-color: white;padding-right: 0.2em;padding-left: 0.2em;position: relative;}#sk-container-id-16 div.sk-item {position: relative;z-index: 1;}#sk-container-id-16 div.sk-parallel {display: flex;align-items: stretch;justify-content: center;background-color: white;position: relative;}#sk-container-id-16 div.sk-item::before, #sk-container-id-16 div.sk-parallel-item::before {content: \"\";position: absolute;border-left: 1px solid gray;box-sizing: border-box;top: 0;bottom: 0;left: 50%;z-index: -1;}#sk-container-id-16 div.sk-parallel-item {display: flex;flex-direction: column;z-index: 1;position: relative;background-color: white;}#sk-container-id-16 div.sk-parallel-item:first-child::after {align-self: flex-end;width: 50%;}#sk-container-id-16 div.sk-parallel-item:last-child::after {align-self: flex-start;width: 50%;}#sk-container-id-16 div.sk-parallel-item:only-child::after {width: 0;}#sk-container-id-16 div.sk-dashed-wrapped {border: 1px dashed gray;margin: 0 0.4em 0.5em 0.4em;box-sizing: border-box;padding-bottom: 0.4em;background-color: white;}#sk-container-id-16 div.sk-label label {font-family: monospace;font-weight: bold;display: inline-block;line-height: 1.2em;}#sk-container-id-16 div.sk-label-container {text-align: center;}#sk-container-id-16 div.sk-container {/* jupyter's `normalize.less` sets `[hidden] { display: none; }` but bootstrap.min.css set `[hidden] { display: none !important; }` so we also need the `!important` here to be able to override the default hidden behavior on the sphinx rendered scikit-learn.org. See: https://github.com/scikit-learn/scikit-learn/issues/21755 */display: inline-block !important;position: relative;}#sk-container-id-16 div.sk-text-repr-fallback {display: none;}</style><div id=\"sk-container-id-16\" class=\"sk-top-container\"><div class=\"sk-text-repr-fallback\"><pre>GradientBoostingClassifier()</pre><b>In a Jupyter environment, please rerun this cell to show the HTML representation or trust the notebook. <br />On GitHub, the HTML representation is unable to render, please try loading this page with nbviewer.org.</b></div><div class=\"sk-container\" hidden><div class=\"sk-item\"><div class=\"sk-estimator sk-toggleable\"><input class=\"sk-toggleable__control sk-hidden--visually\" id=\"sk-estimator-id-32\" type=\"checkbox\" checked><label for=\"sk-estimator-id-32\" class=\"sk-toggleable__label sk-toggleable__label-arrow\">GradientBoostingClassifier</label><div class=\"sk-toggleable__content\"><pre>GradientBoostingClassifier()</pre></div></div></div></div></div>"
            ]
          },
          "metadata": {},
          "execution_count": 129
        }
      ]
    },
    {
      "cell_type": "code",
      "source": [
        "#calculate Cross Validation Accuracy Score\n",
        "cross_val_score(model,X_train_quarterback,Y_train_quarterback,cv=5, n_jobs = -1).mean()"
      ],
      "metadata": {
        "colab": {
          "base_uri": "https://localhost:8080/"
        },
        "id": "mkgTQFubj45E",
        "outputId": "5427f94b-a2cc-44ab-eef8-a8d3b0a37394"
      },
      "execution_count": 130,
      "outputs": [
        {
          "output_type": "execute_result",
          "data": {
            "text/plain": [
              "0.9237354085603113"
            ]
          },
          "metadata": {},
          "execution_count": 130
        }
      ]
    },
    {
      "cell_type": "code",
      "source": [
        "#Establish Parameters as this will help us find best numbers to calculate best CV score\n",
        "param_grid = {\n",
        "    'n_estimators':[10,50,100,500],\n",
        "    'learning_rate':[0.0001,.001,.01,.1,1.0],\n",
        "    'max_depth':[3,5,7,9]\n",
        "\n",
        "}"
      ],
      "metadata": {
        "id": "SPrWyT7Yj48L"
      },
      "execution_count": 131,
      "outputs": []
    },
    {
      "cell_type": "code",
      "source": [
        "#Use new parameters with GridSearchCV model\n",
        "gbr = GridSearchCV(model,param_grid,cv=5,n_jobs=-1)"
      ],
      "metadata": {
        "id": "liUNBuikl4-N"
      },
      "execution_count": 132,
      "outputs": []
    },
    {
      "cell_type": "code",
      "source": [
        "#fit the model with the training data\n",
        "gbr.fit(X_train_quarterback,Y_train_quarterback)"
      ],
      "metadata": {
        "colab": {
          "base_uri": "https://localhost:8080/",
          "height": 116
        },
        "id": "4aSnn7lTl5Aw",
        "outputId": "e57b1ca4-7317-4f91-f533-d2f0a22a4faf"
      },
      "execution_count": 133,
      "outputs": [
        {
          "output_type": "execute_result",
          "data": {
            "text/plain": [
              "GridSearchCV(cv=5, estimator=GradientBoostingClassifier(), n_jobs=-1,\n",
              "             param_grid={'learning_rate': [0.0001, 0.001, 0.01, 0.1, 1.0],\n",
              "                         'max_depth': [3, 5, 7, 9],\n",
              "                         'n_estimators': [10, 50, 100, 500]})"
            ],
            "text/html": [
              "<style>#sk-container-id-17 {color: black;background-color: white;}#sk-container-id-17 pre{padding: 0;}#sk-container-id-17 div.sk-toggleable {background-color: white;}#sk-container-id-17 label.sk-toggleable__label {cursor: pointer;display: block;width: 100%;margin-bottom: 0;padding: 0.3em;box-sizing: border-box;text-align: center;}#sk-container-id-17 label.sk-toggleable__label-arrow:before {content: \"▸\";float: left;margin-right: 0.25em;color: #696969;}#sk-container-id-17 label.sk-toggleable__label-arrow:hover:before {color: black;}#sk-container-id-17 div.sk-estimator:hover label.sk-toggleable__label-arrow:before {color: black;}#sk-container-id-17 div.sk-toggleable__content {max-height: 0;max-width: 0;overflow: hidden;text-align: left;background-color: #f0f8ff;}#sk-container-id-17 div.sk-toggleable__content pre {margin: 0.2em;color: black;border-radius: 0.25em;background-color: #f0f8ff;}#sk-container-id-17 input.sk-toggleable__control:checked~div.sk-toggleable__content {max-height: 200px;max-width: 100%;overflow: auto;}#sk-container-id-17 input.sk-toggleable__control:checked~label.sk-toggleable__label-arrow:before {content: \"▾\";}#sk-container-id-17 div.sk-estimator input.sk-toggleable__control:checked~label.sk-toggleable__label {background-color: #d4ebff;}#sk-container-id-17 div.sk-label input.sk-toggleable__control:checked~label.sk-toggleable__label {background-color: #d4ebff;}#sk-container-id-17 input.sk-hidden--visually {border: 0;clip: rect(1px 1px 1px 1px);clip: rect(1px, 1px, 1px, 1px);height: 1px;margin: -1px;overflow: hidden;padding: 0;position: absolute;width: 1px;}#sk-container-id-17 div.sk-estimator {font-family: monospace;background-color: #f0f8ff;border: 1px dotted black;border-radius: 0.25em;box-sizing: border-box;margin-bottom: 0.5em;}#sk-container-id-17 div.sk-estimator:hover {background-color: #d4ebff;}#sk-container-id-17 div.sk-parallel-item::after {content: \"\";width: 100%;border-bottom: 1px solid gray;flex-grow: 1;}#sk-container-id-17 div.sk-label:hover label.sk-toggleable__label {background-color: #d4ebff;}#sk-container-id-17 div.sk-serial::before {content: \"\";position: absolute;border-left: 1px solid gray;box-sizing: border-box;top: 0;bottom: 0;left: 50%;z-index: 0;}#sk-container-id-17 div.sk-serial {display: flex;flex-direction: column;align-items: center;background-color: white;padding-right: 0.2em;padding-left: 0.2em;position: relative;}#sk-container-id-17 div.sk-item {position: relative;z-index: 1;}#sk-container-id-17 div.sk-parallel {display: flex;align-items: stretch;justify-content: center;background-color: white;position: relative;}#sk-container-id-17 div.sk-item::before, #sk-container-id-17 div.sk-parallel-item::before {content: \"\";position: absolute;border-left: 1px solid gray;box-sizing: border-box;top: 0;bottom: 0;left: 50%;z-index: -1;}#sk-container-id-17 div.sk-parallel-item {display: flex;flex-direction: column;z-index: 1;position: relative;background-color: white;}#sk-container-id-17 div.sk-parallel-item:first-child::after {align-self: flex-end;width: 50%;}#sk-container-id-17 div.sk-parallel-item:last-child::after {align-self: flex-start;width: 50%;}#sk-container-id-17 div.sk-parallel-item:only-child::after {width: 0;}#sk-container-id-17 div.sk-dashed-wrapped {border: 1px dashed gray;margin: 0 0.4em 0.5em 0.4em;box-sizing: border-box;padding-bottom: 0.4em;background-color: white;}#sk-container-id-17 div.sk-label label {font-family: monospace;font-weight: bold;display: inline-block;line-height: 1.2em;}#sk-container-id-17 div.sk-label-container {text-align: center;}#sk-container-id-17 div.sk-container {/* jupyter's `normalize.less` sets `[hidden] { display: none; }` but bootstrap.min.css set `[hidden] { display: none !important; }` so we also need the `!important` here to be able to override the default hidden behavior on the sphinx rendered scikit-learn.org. See: https://github.com/scikit-learn/scikit-learn/issues/21755 */display: inline-block !important;position: relative;}#sk-container-id-17 div.sk-text-repr-fallback {display: none;}</style><div id=\"sk-container-id-17\" class=\"sk-top-container\"><div class=\"sk-text-repr-fallback\"><pre>GridSearchCV(cv=5, estimator=GradientBoostingClassifier(), n_jobs=-1,\n",
              "             param_grid={&#x27;learning_rate&#x27;: [0.0001, 0.001, 0.01, 0.1, 1.0],\n",
              "                         &#x27;max_depth&#x27;: [3, 5, 7, 9],\n",
              "                         &#x27;n_estimators&#x27;: [10, 50, 100, 500]})</pre><b>In a Jupyter environment, please rerun this cell to show the HTML representation or trust the notebook. <br />On GitHub, the HTML representation is unable to render, please try loading this page with nbviewer.org.</b></div><div class=\"sk-container\" hidden><div class=\"sk-item sk-dashed-wrapped\"><div class=\"sk-label-container\"><div class=\"sk-label sk-toggleable\"><input class=\"sk-toggleable__control sk-hidden--visually\" id=\"sk-estimator-id-33\" type=\"checkbox\" ><label for=\"sk-estimator-id-33\" class=\"sk-toggleable__label sk-toggleable__label-arrow\">GridSearchCV</label><div class=\"sk-toggleable__content\"><pre>GridSearchCV(cv=5, estimator=GradientBoostingClassifier(), n_jobs=-1,\n",
              "             param_grid={&#x27;learning_rate&#x27;: [0.0001, 0.001, 0.01, 0.1, 1.0],\n",
              "                         &#x27;max_depth&#x27;: [3, 5, 7, 9],\n",
              "                         &#x27;n_estimators&#x27;: [10, 50, 100, 500]})</pre></div></div></div><div class=\"sk-parallel\"><div class=\"sk-parallel-item\"><div class=\"sk-item\"><div class=\"sk-label-container\"><div class=\"sk-label sk-toggleable\"><input class=\"sk-toggleable__control sk-hidden--visually\" id=\"sk-estimator-id-34\" type=\"checkbox\" ><label for=\"sk-estimator-id-34\" class=\"sk-toggleable__label sk-toggleable__label-arrow\">estimator: GradientBoostingClassifier</label><div class=\"sk-toggleable__content\"><pre>GradientBoostingClassifier()</pre></div></div></div><div class=\"sk-serial\"><div class=\"sk-item\"><div class=\"sk-estimator sk-toggleable\"><input class=\"sk-toggleable__control sk-hidden--visually\" id=\"sk-estimator-id-35\" type=\"checkbox\" ><label for=\"sk-estimator-id-35\" class=\"sk-toggleable__label sk-toggleable__label-arrow\">GradientBoostingClassifier</label><div class=\"sk-toggleable__content\"><pre>GradientBoostingClassifier()</pre></div></div></div></div></div></div></div></div></div></div>"
            ]
          },
          "metadata": {},
          "execution_count": 133
        }
      ]
    },
    {
      "cell_type": "code",
      "source": [
        "#Find best parameters\n",
        "gbr.best_params_"
      ],
      "metadata": {
        "colab": {
          "base_uri": "https://localhost:8080/"
        },
        "id": "0sf3Mn_ul5DW",
        "outputId": "698c911f-a715-48a5-d1ed-99b0e1a962bf"
      },
      "execution_count": 134,
      "outputs": [
        {
          "output_type": "execute_result",
          "data": {
            "text/plain": [
              "{'learning_rate': 0.1, 'max_depth': 3, 'n_estimators': 50}"
            ]
          },
          "metadata": {},
          "execution_count": 134
        }
      ]
    },
    {
      "cell_type": "code",
      "source": [
        "#Find best score\n",
        "gbr.best_score_"
      ],
      "metadata": {
        "colab": {
          "base_uri": "https://localhost:8080/"
        },
        "id": "0fppUKpzl5Fa",
        "outputId": "04a6c719-2b35-4789-ef60-030994aadb95"
      },
      "execution_count": 135,
      "outputs": [
        {
          "output_type": "execute_result",
          "data": {
            "text/plain": [
              "0.9276264591439689"
            ]
          },
          "metadata": {},
          "execution_count": 135
        }
      ]
    },
    {
      "cell_type": "code",
      "source": [
        "###Runningback GB Model###\n",
        "\n",
        "label_encoder = LabelEncoder()\n",
        "final_rb_data['Division'] = label_encoder.fit_transform(final_rb_data['Division'])\n",
        "final_rb_data['Power5'] = label_encoder.fit_transform(final_rb_data['Power5'])\n",
        "# Establish X and y dataframes for the model #\n",
        "X_runningback = final_rb_data[['Power5','Division','Rush Yds/Att','Rush Yds/G','Rush TD/G']]\n",
        "y_runningback = final_rb_data['Drafted?']\n",
        "# Split the data into a training set (80%) and a testing set (20%)\n",
        "X_train_runningback, X_test_runningback, Y_train_runningback, Y_test_runningback = train_test_split(X_runningback, y_runningback, test_size=0.2, random_state=23)"
      ],
      "metadata": {
        "id": "XDMNB_aPqd6G"
      },
      "execution_count": 136,
      "outputs": []
    },
    {
      "cell_type": "code",
      "source": [
        "#fit model to training data set\n",
        "model.fit(X_train_runningback,Y_train_runningback)"
      ],
      "metadata": {
        "colab": {
          "base_uri": "https://localhost:8080/",
          "height": 74
        },
        "id": "cYtPUI_iqiyk",
        "outputId": "bea10cc0-5741-401d-9ec4-807311365ea8"
      },
      "execution_count": 137,
      "outputs": [
        {
          "output_type": "execute_result",
          "data": {
            "text/plain": [
              "GradientBoostingClassifier()"
            ],
            "text/html": [
              "<style>#sk-container-id-18 {color: black;background-color: white;}#sk-container-id-18 pre{padding: 0;}#sk-container-id-18 div.sk-toggleable {background-color: white;}#sk-container-id-18 label.sk-toggleable__label {cursor: pointer;display: block;width: 100%;margin-bottom: 0;padding: 0.3em;box-sizing: border-box;text-align: center;}#sk-container-id-18 label.sk-toggleable__label-arrow:before {content: \"▸\";float: left;margin-right: 0.25em;color: #696969;}#sk-container-id-18 label.sk-toggleable__label-arrow:hover:before {color: black;}#sk-container-id-18 div.sk-estimator:hover label.sk-toggleable__label-arrow:before {color: black;}#sk-container-id-18 div.sk-toggleable__content {max-height: 0;max-width: 0;overflow: hidden;text-align: left;background-color: #f0f8ff;}#sk-container-id-18 div.sk-toggleable__content pre {margin: 0.2em;color: black;border-radius: 0.25em;background-color: #f0f8ff;}#sk-container-id-18 input.sk-toggleable__control:checked~div.sk-toggleable__content {max-height: 200px;max-width: 100%;overflow: auto;}#sk-container-id-18 input.sk-toggleable__control:checked~label.sk-toggleable__label-arrow:before {content: \"▾\";}#sk-container-id-18 div.sk-estimator input.sk-toggleable__control:checked~label.sk-toggleable__label {background-color: #d4ebff;}#sk-container-id-18 div.sk-label input.sk-toggleable__control:checked~label.sk-toggleable__label {background-color: #d4ebff;}#sk-container-id-18 input.sk-hidden--visually {border: 0;clip: rect(1px 1px 1px 1px);clip: rect(1px, 1px, 1px, 1px);height: 1px;margin: -1px;overflow: hidden;padding: 0;position: absolute;width: 1px;}#sk-container-id-18 div.sk-estimator {font-family: monospace;background-color: #f0f8ff;border: 1px dotted black;border-radius: 0.25em;box-sizing: border-box;margin-bottom: 0.5em;}#sk-container-id-18 div.sk-estimator:hover {background-color: #d4ebff;}#sk-container-id-18 div.sk-parallel-item::after {content: \"\";width: 100%;border-bottom: 1px solid gray;flex-grow: 1;}#sk-container-id-18 div.sk-label:hover label.sk-toggleable__label {background-color: #d4ebff;}#sk-container-id-18 div.sk-serial::before {content: \"\";position: absolute;border-left: 1px solid gray;box-sizing: border-box;top: 0;bottom: 0;left: 50%;z-index: 0;}#sk-container-id-18 div.sk-serial {display: flex;flex-direction: column;align-items: center;background-color: white;padding-right: 0.2em;padding-left: 0.2em;position: relative;}#sk-container-id-18 div.sk-item {position: relative;z-index: 1;}#sk-container-id-18 div.sk-parallel {display: flex;align-items: stretch;justify-content: center;background-color: white;position: relative;}#sk-container-id-18 div.sk-item::before, #sk-container-id-18 div.sk-parallel-item::before {content: \"\";position: absolute;border-left: 1px solid gray;box-sizing: border-box;top: 0;bottom: 0;left: 50%;z-index: -1;}#sk-container-id-18 div.sk-parallel-item {display: flex;flex-direction: column;z-index: 1;position: relative;background-color: white;}#sk-container-id-18 div.sk-parallel-item:first-child::after {align-self: flex-end;width: 50%;}#sk-container-id-18 div.sk-parallel-item:last-child::after {align-self: flex-start;width: 50%;}#sk-container-id-18 div.sk-parallel-item:only-child::after {width: 0;}#sk-container-id-18 div.sk-dashed-wrapped {border: 1px dashed gray;margin: 0 0.4em 0.5em 0.4em;box-sizing: border-box;padding-bottom: 0.4em;background-color: white;}#sk-container-id-18 div.sk-label label {font-family: monospace;font-weight: bold;display: inline-block;line-height: 1.2em;}#sk-container-id-18 div.sk-label-container {text-align: center;}#sk-container-id-18 div.sk-container {/* jupyter's `normalize.less` sets `[hidden] { display: none; }` but bootstrap.min.css set `[hidden] { display: none !important; }` so we also need the `!important` here to be able to override the default hidden behavior on the sphinx rendered scikit-learn.org. See: https://github.com/scikit-learn/scikit-learn/issues/21755 */display: inline-block !important;position: relative;}#sk-container-id-18 div.sk-text-repr-fallback {display: none;}</style><div id=\"sk-container-id-18\" class=\"sk-top-container\"><div class=\"sk-text-repr-fallback\"><pre>GradientBoostingClassifier()</pre><b>In a Jupyter environment, please rerun this cell to show the HTML representation or trust the notebook. <br />On GitHub, the HTML representation is unable to render, please try loading this page with nbviewer.org.</b></div><div class=\"sk-container\" hidden><div class=\"sk-item\"><div class=\"sk-estimator sk-toggleable\"><input class=\"sk-toggleable__control sk-hidden--visually\" id=\"sk-estimator-id-36\" type=\"checkbox\" checked><label for=\"sk-estimator-id-36\" class=\"sk-toggleable__label sk-toggleable__label-arrow\">GradientBoostingClassifier</label><div class=\"sk-toggleable__content\"><pre>GradientBoostingClassifier()</pre></div></div></div></div></div>"
            ]
          },
          "metadata": {},
          "execution_count": 137
        }
      ]
    },
    {
      "cell_type": "code",
      "source": [
        "#calculate Cross Validation Accuracy Score\n",
        "cross_val_score(model,X_train_runningback,Y_train_runningback,cv=5, n_jobs = -1).mean()"
      ],
      "metadata": {
        "colab": {
          "base_uri": "https://localhost:8080/"
        },
        "id": "TrtdS0Jbqd8q",
        "outputId": "28ac9cf5-d4a1-4467-a0b9-fe3bfd9a2ffc"
      },
      "execution_count": 138,
      "outputs": [
        {
          "output_type": "execute_result",
          "data": {
            "text/plain": [
              "0.9182394762416244"
            ]
          },
          "metadata": {},
          "execution_count": 138
        }
      ]
    },
    {
      "cell_type": "code",
      "source": [
        "#Establish Parameters as this will help us find best numbers to calculate best CV score\n",
        "param_grid = {\n",
        "    'n_estimators':[10,50,100,500],\n",
        "    'learning_rate':[0.0001,.001,.01,.1,1.0],\n",
        "    'max_depth':[3,5,7,9]\n",
        "\n",
        "}"
      ],
      "metadata": {
        "id": "74NnD87Lqd_h"
      },
      "execution_count": 139,
      "outputs": []
    },
    {
      "cell_type": "code",
      "source": [
        "#Use new parameters with GridSearchCV model\n",
        "gbr = GridSearchCV(model,param_grid,cv=5,n_jobs=-1)"
      ],
      "metadata": {
        "id": "xcCDdIayqeCI"
      },
      "execution_count": 140,
      "outputs": []
    },
    {
      "cell_type": "code",
      "source": [
        "#fit the model with the training data\n",
        "gbr.fit(X_train_runningback,Y_train_runningback)"
      ],
      "metadata": {
        "colab": {
          "base_uri": "https://localhost:8080/",
          "height": 116
        },
        "id": "xp4aVSblqeEt",
        "outputId": "8120f1ce-7f13-4daa-db03-e5911d373b85"
      },
      "execution_count": 141,
      "outputs": [
        {
          "output_type": "execute_result",
          "data": {
            "text/plain": [
              "GridSearchCV(cv=5, estimator=GradientBoostingClassifier(), n_jobs=-1,\n",
              "             param_grid={'learning_rate': [0.0001, 0.001, 0.01, 0.1, 1.0],\n",
              "                         'max_depth': [3, 5, 7, 9],\n",
              "                         'n_estimators': [10, 50, 100, 500]})"
            ],
            "text/html": [
              "<style>#sk-container-id-19 {color: black;background-color: white;}#sk-container-id-19 pre{padding: 0;}#sk-container-id-19 div.sk-toggleable {background-color: white;}#sk-container-id-19 label.sk-toggleable__label {cursor: pointer;display: block;width: 100%;margin-bottom: 0;padding: 0.3em;box-sizing: border-box;text-align: center;}#sk-container-id-19 label.sk-toggleable__label-arrow:before {content: \"▸\";float: left;margin-right: 0.25em;color: #696969;}#sk-container-id-19 label.sk-toggleable__label-arrow:hover:before {color: black;}#sk-container-id-19 div.sk-estimator:hover label.sk-toggleable__label-arrow:before {color: black;}#sk-container-id-19 div.sk-toggleable__content {max-height: 0;max-width: 0;overflow: hidden;text-align: left;background-color: #f0f8ff;}#sk-container-id-19 div.sk-toggleable__content pre {margin: 0.2em;color: black;border-radius: 0.25em;background-color: #f0f8ff;}#sk-container-id-19 input.sk-toggleable__control:checked~div.sk-toggleable__content {max-height: 200px;max-width: 100%;overflow: auto;}#sk-container-id-19 input.sk-toggleable__control:checked~label.sk-toggleable__label-arrow:before {content: \"▾\";}#sk-container-id-19 div.sk-estimator input.sk-toggleable__control:checked~label.sk-toggleable__label {background-color: #d4ebff;}#sk-container-id-19 div.sk-label input.sk-toggleable__control:checked~label.sk-toggleable__label {background-color: #d4ebff;}#sk-container-id-19 input.sk-hidden--visually {border: 0;clip: rect(1px 1px 1px 1px);clip: rect(1px, 1px, 1px, 1px);height: 1px;margin: -1px;overflow: hidden;padding: 0;position: absolute;width: 1px;}#sk-container-id-19 div.sk-estimator {font-family: monospace;background-color: #f0f8ff;border: 1px dotted black;border-radius: 0.25em;box-sizing: border-box;margin-bottom: 0.5em;}#sk-container-id-19 div.sk-estimator:hover {background-color: #d4ebff;}#sk-container-id-19 div.sk-parallel-item::after {content: \"\";width: 100%;border-bottom: 1px solid gray;flex-grow: 1;}#sk-container-id-19 div.sk-label:hover label.sk-toggleable__label {background-color: #d4ebff;}#sk-container-id-19 div.sk-serial::before {content: \"\";position: absolute;border-left: 1px solid gray;box-sizing: border-box;top: 0;bottom: 0;left: 50%;z-index: 0;}#sk-container-id-19 div.sk-serial {display: flex;flex-direction: column;align-items: center;background-color: white;padding-right: 0.2em;padding-left: 0.2em;position: relative;}#sk-container-id-19 div.sk-item {position: relative;z-index: 1;}#sk-container-id-19 div.sk-parallel {display: flex;align-items: stretch;justify-content: center;background-color: white;position: relative;}#sk-container-id-19 div.sk-item::before, #sk-container-id-19 div.sk-parallel-item::before {content: \"\";position: absolute;border-left: 1px solid gray;box-sizing: border-box;top: 0;bottom: 0;left: 50%;z-index: -1;}#sk-container-id-19 div.sk-parallel-item {display: flex;flex-direction: column;z-index: 1;position: relative;background-color: white;}#sk-container-id-19 div.sk-parallel-item:first-child::after {align-self: flex-end;width: 50%;}#sk-container-id-19 div.sk-parallel-item:last-child::after {align-self: flex-start;width: 50%;}#sk-container-id-19 div.sk-parallel-item:only-child::after {width: 0;}#sk-container-id-19 div.sk-dashed-wrapped {border: 1px dashed gray;margin: 0 0.4em 0.5em 0.4em;box-sizing: border-box;padding-bottom: 0.4em;background-color: white;}#sk-container-id-19 div.sk-label label {font-family: monospace;font-weight: bold;display: inline-block;line-height: 1.2em;}#sk-container-id-19 div.sk-label-container {text-align: center;}#sk-container-id-19 div.sk-container {/* jupyter's `normalize.less` sets `[hidden] { display: none; }` but bootstrap.min.css set `[hidden] { display: none !important; }` so we also need the `!important` here to be able to override the default hidden behavior on the sphinx rendered scikit-learn.org. See: https://github.com/scikit-learn/scikit-learn/issues/21755 */display: inline-block !important;position: relative;}#sk-container-id-19 div.sk-text-repr-fallback {display: none;}</style><div id=\"sk-container-id-19\" class=\"sk-top-container\"><div class=\"sk-text-repr-fallback\"><pre>GridSearchCV(cv=5, estimator=GradientBoostingClassifier(), n_jobs=-1,\n",
              "             param_grid={&#x27;learning_rate&#x27;: [0.0001, 0.001, 0.01, 0.1, 1.0],\n",
              "                         &#x27;max_depth&#x27;: [3, 5, 7, 9],\n",
              "                         &#x27;n_estimators&#x27;: [10, 50, 100, 500]})</pre><b>In a Jupyter environment, please rerun this cell to show the HTML representation or trust the notebook. <br />On GitHub, the HTML representation is unable to render, please try loading this page with nbviewer.org.</b></div><div class=\"sk-container\" hidden><div class=\"sk-item sk-dashed-wrapped\"><div class=\"sk-label-container\"><div class=\"sk-label sk-toggleable\"><input class=\"sk-toggleable__control sk-hidden--visually\" id=\"sk-estimator-id-37\" type=\"checkbox\" ><label for=\"sk-estimator-id-37\" class=\"sk-toggleable__label sk-toggleable__label-arrow\">GridSearchCV</label><div class=\"sk-toggleable__content\"><pre>GridSearchCV(cv=5, estimator=GradientBoostingClassifier(), n_jobs=-1,\n",
              "             param_grid={&#x27;learning_rate&#x27;: [0.0001, 0.001, 0.01, 0.1, 1.0],\n",
              "                         &#x27;max_depth&#x27;: [3, 5, 7, 9],\n",
              "                         &#x27;n_estimators&#x27;: [10, 50, 100, 500]})</pre></div></div></div><div class=\"sk-parallel\"><div class=\"sk-parallel-item\"><div class=\"sk-item\"><div class=\"sk-label-container\"><div class=\"sk-label sk-toggleable\"><input class=\"sk-toggleable__control sk-hidden--visually\" id=\"sk-estimator-id-38\" type=\"checkbox\" ><label for=\"sk-estimator-id-38\" class=\"sk-toggleable__label sk-toggleable__label-arrow\">estimator: GradientBoostingClassifier</label><div class=\"sk-toggleable__content\"><pre>GradientBoostingClassifier()</pre></div></div></div><div class=\"sk-serial\"><div class=\"sk-item\"><div class=\"sk-estimator sk-toggleable\"><input class=\"sk-toggleable__control sk-hidden--visually\" id=\"sk-estimator-id-39\" type=\"checkbox\" ><label for=\"sk-estimator-id-39\" class=\"sk-toggleable__label sk-toggleable__label-arrow\">GradientBoostingClassifier</label><div class=\"sk-toggleable__content\"><pre>GradientBoostingClassifier()</pre></div></div></div></div></div></div></div></div></div></div>"
            ]
          },
          "metadata": {},
          "execution_count": 141
        }
      ]
    },
    {
      "cell_type": "code",
      "source": [
        "#Find best parameters\n",
        "gbr.best_params_"
      ],
      "metadata": {
        "colab": {
          "base_uri": "https://localhost:8080/"
        },
        "id": "pX4z1UPtrYDK",
        "outputId": "b8302ade-03b2-4c19-d605-c48626e6d067"
      },
      "execution_count": 144,
      "outputs": [
        {
          "output_type": "execute_result",
          "data": {
            "text/plain": [
              "{'learning_rate': 0.01, 'max_depth': 3, 'n_estimators': 500}"
            ]
          },
          "metadata": {},
          "execution_count": 144
        }
      ]
    },
    {
      "cell_type": "code",
      "source": [
        "#Find best parameters\n",
        "gbr.best_score_"
      ],
      "metadata": {
        "colab": {
          "base_uri": "https://localhost:8080/"
        },
        "id": "ab0N83ImrZZE",
        "outputId": "0bf0da3f-4582-4b05-c448-a3fa14956357"
      },
      "execution_count": 145,
      "outputs": [
        {
          "output_type": "execute_result",
          "data": {
            "text/plain": [
              "0.9264146761461477"
            ]
          },
          "metadata": {},
          "execution_count": 145
        }
      ]
    },
    {
      "cell_type": "code",
      "source": [
        "###Wide Receiver GB Model###\n",
        "\n",
        "label_encoder = LabelEncoder()\n",
        "final_wr_data['Division'] = label_encoder.fit_transform(final_wr_data['Division'])\n",
        "final_wr_data['Power5'] = label_encoder.fit_transform(final_wr_data['Power5'])\n",
        "# Establish X and y dataframes for the model #\n",
        "X_widereceiver = final_wr_data[['Division','Power5','Rec Yds/Rec','Rec Yds/G','Rec TD/G']]\n",
        "y_widereceiver = final_wr_data['Drafted?']\n",
        "# Split the data into a training set (80%) and a testing set (20%)\n",
        "X_train_widereceiver, X_test_widereceiver, Y_train_widereceiver, Y_test_widereceiver = train_test_split(X_widereceiver, y_widereceiver, test_size=0.2, random_state=23)\n"
      ],
      "metadata": {
        "id": "o_b5Hgi1raSX"
      },
      "execution_count": 152,
      "outputs": []
    },
    {
      "cell_type": "code",
      "source": [
        "#fit model to training data set\n",
        "model.fit(X_train_widereceiver,Y_train_widereceiver)"
      ],
      "metadata": {
        "colab": {
          "base_uri": "https://localhost:8080/",
          "height": 74
        },
        "id": "gOaGE8bLrbOh",
        "outputId": "b358d218-4a5a-4366-b7ae-e9aeb2408041"
      },
      "execution_count": 153,
      "outputs": [
        {
          "output_type": "execute_result",
          "data": {
            "text/plain": [
              "GradientBoostingClassifier()"
            ],
            "text/html": [
              "<style>#sk-container-id-22 {color: black;background-color: white;}#sk-container-id-22 pre{padding: 0;}#sk-container-id-22 div.sk-toggleable {background-color: white;}#sk-container-id-22 label.sk-toggleable__label {cursor: pointer;display: block;width: 100%;margin-bottom: 0;padding: 0.3em;box-sizing: border-box;text-align: center;}#sk-container-id-22 label.sk-toggleable__label-arrow:before {content: \"▸\";float: left;margin-right: 0.25em;color: #696969;}#sk-container-id-22 label.sk-toggleable__label-arrow:hover:before {color: black;}#sk-container-id-22 div.sk-estimator:hover label.sk-toggleable__label-arrow:before {color: black;}#sk-container-id-22 div.sk-toggleable__content {max-height: 0;max-width: 0;overflow: hidden;text-align: left;background-color: #f0f8ff;}#sk-container-id-22 div.sk-toggleable__content pre {margin: 0.2em;color: black;border-radius: 0.25em;background-color: #f0f8ff;}#sk-container-id-22 input.sk-toggleable__control:checked~div.sk-toggleable__content {max-height: 200px;max-width: 100%;overflow: auto;}#sk-container-id-22 input.sk-toggleable__control:checked~label.sk-toggleable__label-arrow:before {content: \"▾\";}#sk-container-id-22 div.sk-estimator input.sk-toggleable__control:checked~label.sk-toggleable__label {background-color: #d4ebff;}#sk-container-id-22 div.sk-label input.sk-toggleable__control:checked~label.sk-toggleable__label {background-color: #d4ebff;}#sk-container-id-22 input.sk-hidden--visually {border: 0;clip: rect(1px 1px 1px 1px);clip: rect(1px, 1px, 1px, 1px);height: 1px;margin: -1px;overflow: hidden;padding: 0;position: absolute;width: 1px;}#sk-container-id-22 div.sk-estimator {font-family: monospace;background-color: #f0f8ff;border: 1px dotted black;border-radius: 0.25em;box-sizing: border-box;margin-bottom: 0.5em;}#sk-container-id-22 div.sk-estimator:hover {background-color: #d4ebff;}#sk-container-id-22 div.sk-parallel-item::after {content: \"\";width: 100%;border-bottom: 1px solid gray;flex-grow: 1;}#sk-container-id-22 div.sk-label:hover label.sk-toggleable__label {background-color: #d4ebff;}#sk-container-id-22 div.sk-serial::before {content: \"\";position: absolute;border-left: 1px solid gray;box-sizing: border-box;top: 0;bottom: 0;left: 50%;z-index: 0;}#sk-container-id-22 div.sk-serial {display: flex;flex-direction: column;align-items: center;background-color: white;padding-right: 0.2em;padding-left: 0.2em;position: relative;}#sk-container-id-22 div.sk-item {position: relative;z-index: 1;}#sk-container-id-22 div.sk-parallel {display: flex;align-items: stretch;justify-content: center;background-color: white;position: relative;}#sk-container-id-22 div.sk-item::before, #sk-container-id-22 div.sk-parallel-item::before {content: \"\";position: absolute;border-left: 1px solid gray;box-sizing: border-box;top: 0;bottom: 0;left: 50%;z-index: -1;}#sk-container-id-22 div.sk-parallel-item {display: flex;flex-direction: column;z-index: 1;position: relative;background-color: white;}#sk-container-id-22 div.sk-parallel-item:first-child::after {align-self: flex-end;width: 50%;}#sk-container-id-22 div.sk-parallel-item:last-child::after {align-self: flex-start;width: 50%;}#sk-container-id-22 div.sk-parallel-item:only-child::after {width: 0;}#sk-container-id-22 div.sk-dashed-wrapped {border: 1px dashed gray;margin: 0 0.4em 0.5em 0.4em;box-sizing: border-box;padding-bottom: 0.4em;background-color: white;}#sk-container-id-22 div.sk-label label {font-family: monospace;font-weight: bold;display: inline-block;line-height: 1.2em;}#sk-container-id-22 div.sk-label-container {text-align: center;}#sk-container-id-22 div.sk-container {/* jupyter's `normalize.less` sets `[hidden] { display: none; }` but bootstrap.min.css set `[hidden] { display: none !important; }` so we also need the `!important` here to be able to override the default hidden behavior on the sphinx rendered scikit-learn.org. See: https://github.com/scikit-learn/scikit-learn/issues/21755 */display: inline-block !important;position: relative;}#sk-container-id-22 div.sk-text-repr-fallback {display: none;}</style><div id=\"sk-container-id-22\" class=\"sk-top-container\"><div class=\"sk-text-repr-fallback\"><pre>GradientBoostingClassifier()</pre><b>In a Jupyter environment, please rerun this cell to show the HTML representation or trust the notebook. <br />On GitHub, the HTML representation is unable to render, please try loading this page with nbviewer.org.</b></div><div class=\"sk-container\" hidden><div class=\"sk-item\"><div class=\"sk-estimator sk-toggleable\"><input class=\"sk-toggleable__control sk-hidden--visually\" id=\"sk-estimator-id-44\" type=\"checkbox\" checked><label for=\"sk-estimator-id-44\" class=\"sk-toggleable__label sk-toggleable__label-arrow\">GradientBoostingClassifier</label><div class=\"sk-toggleable__content\"><pre>GradientBoostingClassifier()</pre></div></div></div></div></div>"
            ]
          },
          "metadata": {},
          "execution_count": 153
        }
      ]
    },
    {
      "cell_type": "code",
      "source": [
        "#calculate Cross Validation Accuracy Score\n",
        "cross_val_score(model,X_train_widereceiver,Y_train_widereceiver,cv=5, n_jobs = -1).mean()"
      ],
      "metadata": {
        "colab": {
          "base_uri": "https://localhost:8080/"
        },
        "id": "EemG-8Xhrb9p",
        "outputId": "8819944d-fca7-4d41-d945-2b223a625b9f"
      },
      "execution_count": 154,
      "outputs": [
        {
          "output_type": "execute_result",
          "data": {
            "text/plain": [
              "0.8838694339137698"
            ]
          },
          "metadata": {},
          "execution_count": 154
        }
      ]
    },
    {
      "cell_type": "code",
      "source": [
        "#Establish Parameters as this will help us find best numbers to calculate best CV score\n",
        "param_grid = {\n",
        "    'n_estimators':[10,50,100,500],\n",
        "    'learning_rate':[0.0001,.001,.01,.1,1.0],\n",
        "    'max_depth':[3,5,7,9]\n",
        "\n",
        "}"
      ],
      "metadata": {
        "id": "hEjRHTNkrctj"
      },
      "execution_count": 155,
      "outputs": []
    },
    {
      "cell_type": "code",
      "source": [
        "#Use new parameters with GridSearchCV model\n",
        "gbr = GridSearchCV(model,param_grid,cv=5,n_jobs=-1)"
      ],
      "metadata": {
        "id": "ovnpjsa_rdr0"
      },
      "execution_count": 156,
      "outputs": []
    },
    {
      "cell_type": "code",
      "source": [
        "#fit the model with the training data\n",
        "gbr.fit(X_train_widereceiver,Y_train_widereceiver)"
      ],
      "metadata": {
        "colab": {
          "base_uri": "https://localhost:8080/",
          "height": 116
        },
        "id": "23u2-5zrreXj",
        "outputId": "475db52b-5cee-4b20-b3c2-51cdc0463a74"
      },
      "execution_count": 157,
      "outputs": [
        {
          "output_type": "execute_result",
          "data": {
            "text/plain": [
              "GridSearchCV(cv=5, estimator=GradientBoostingClassifier(), n_jobs=-1,\n",
              "             param_grid={'learning_rate': [0.0001, 0.001, 0.01, 0.1, 1.0],\n",
              "                         'max_depth': [3, 5, 7, 9],\n",
              "                         'n_estimators': [10, 50, 100, 500]})"
            ],
            "text/html": [
              "<style>#sk-container-id-23 {color: black;background-color: white;}#sk-container-id-23 pre{padding: 0;}#sk-container-id-23 div.sk-toggleable {background-color: white;}#sk-container-id-23 label.sk-toggleable__label {cursor: pointer;display: block;width: 100%;margin-bottom: 0;padding: 0.3em;box-sizing: border-box;text-align: center;}#sk-container-id-23 label.sk-toggleable__label-arrow:before {content: \"▸\";float: left;margin-right: 0.25em;color: #696969;}#sk-container-id-23 label.sk-toggleable__label-arrow:hover:before {color: black;}#sk-container-id-23 div.sk-estimator:hover label.sk-toggleable__label-arrow:before {color: black;}#sk-container-id-23 div.sk-toggleable__content {max-height: 0;max-width: 0;overflow: hidden;text-align: left;background-color: #f0f8ff;}#sk-container-id-23 div.sk-toggleable__content pre {margin: 0.2em;color: black;border-radius: 0.25em;background-color: #f0f8ff;}#sk-container-id-23 input.sk-toggleable__control:checked~div.sk-toggleable__content {max-height: 200px;max-width: 100%;overflow: auto;}#sk-container-id-23 input.sk-toggleable__control:checked~label.sk-toggleable__label-arrow:before {content: \"▾\";}#sk-container-id-23 div.sk-estimator input.sk-toggleable__control:checked~label.sk-toggleable__label {background-color: #d4ebff;}#sk-container-id-23 div.sk-label input.sk-toggleable__control:checked~label.sk-toggleable__label {background-color: #d4ebff;}#sk-container-id-23 input.sk-hidden--visually {border: 0;clip: rect(1px 1px 1px 1px);clip: rect(1px, 1px, 1px, 1px);height: 1px;margin: -1px;overflow: hidden;padding: 0;position: absolute;width: 1px;}#sk-container-id-23 div.sk-estimator {font-family: monospace;background-color: #f0f8ff;border: 1px dotted black;border-radius: 0.25em;box-sizing: border-box;margin-bottom: 0.5em;}#sk-container-id-23 div.sk-estimator:hover {background-color: #d4ebff;}#sk-container-id-23 div.sk-parallel-item::after {content: \"\";width: 100%;border-bottom: 1px solid gray;flex-grow: 1;}#sk-container-id-23 div.sk-label:hover label.sk-toggleable__label {background-color: #d4ebff;}#sk-container-id-23 div.sk-serial::before {content: \"\";position: absolute;border-left: 1px solid gray;box-sizing: border-box;top: 0;bottom: 0;left: 50%;z-index: 0;}#sk-container-id-23 div.sk-serial {display: flex;flex-direction: column;align-items: center;background-color: white;padding-right: 0.2em;padding-left: 0.2em;position: relative;}#sk-container-id-23 div.sk-item {position: relative;z-index: 1;}#sk-container-id-23 div.sk-parallel {display: flex;align-items: stretch;justify-content: center;background-color: white;position: relative;}#sk-container-id-23 div.sk-item::before, #sk-container-id-23 div.sk-parallel-item::before {content: \"\";position: absolute;border-left: 1px solid gray;box-sizing: border-box;top: 0;bottom: 0;left: 50%;z-index: -1;}#sk-container-id-23 div.sk-parallel-item {display: flex;flex-direction: column;z-index: 1;position: relative;background-color: white;}#sk-container-id-23 div.sk-parallel-item:first-child::after {align-self: flex-end;width: 50%;}#sk-container-id-23 div.sk-parallel-item:last-child::after {align-self: flex-start;width: 50%;}#sk-container-id-23 div.sk-parallel-item:only-child::after {width: 0;}#sk-container-id-23 div.sk-dashed-wrapped {border: 1px dashed gray;margin: 0 0.4em 0.5em 0.4em;box-sizing: border-box;padding-bottom: 0.4em;background-color: white;}#sk-container-id-23 div.sk-label label {font-family: monospace;font-weight: bold;display: inline-block;line-height: 1.2em;}#sk-container-id-23 div.sk-label-container {text-align: center;}#sk-container-id-23 div.sk-container {/* jupyter's `normalize.less` sets `[hidden] { display: none; }` but bootstrap.min.css set `[hidden] { display: none !important; }` so we also need the `!important` here to be able to override the default hidden behavior on the sphinx rendered scikit-learn.org. See: https://github.com/scikit-learn/scikit-learn/issues/21755 */display: inline-block !important;position: relative;}#sk-container-id-23 div.sk-text-repr-fallback {display: none;}</style><div id=\"sk-container-id-23\" class=\"sk-top-container\"><div class=\"sk-text-repr-fallback\"><pre>GridSearchCV(cv=5, estimator=GradientBoostingClassifier(), n_jobs=-1,\n",
              "             param_grid={&#x27;learning_rate&#x27;: [0.0001, 0.001, 0.01, 0.1, 1.0],\n",
              "                         &#x27;max_depth&#x27;: [3, 5, 7, 9],\n",
              "                         &#x27;n_estimators&#x27;: [10, 50, 100, 500]})</pre><b>In a Jupyter environment, please rerun this cell to show the HTML representation or trust the notebook. <br />On GitHub, the HTML representation is unable to render, please try loading this page with nbviewer.org.</b></div><div class=\"sk-container\" hidden><div class=\"sk-item sk-dashed-wrapped\"><div class=\"sk-label-container\"><div class=\"sk-label sk-toggleable\"><input class=\"sk-toggleable__control sk-hidden--visually\" id=\"sk-estimator-id-45\" type=\"checkbox\" ><label for=\"sk-estimator-id-45\" class=\"sk-toggleable__label sk-toggleable__label-arrow\">GridSearchCV</label><div class=\"sk-toggleable__content\"><pre>GridSearchCV(cv=5, estimator=GradientBoostingClassifier(), n_jobs=-1,\n",
              "             param_grid={&#x27;learning_rate&#x27;: [0.0001, 0.001, 0.01, 0.1, 1.0],\n",
              "                         &#x27;max_depth&#x27;: [3, 5, 7, 9],\n",
              "                         &#x27;n_estimators&#x27;: [10, 50, 100, 500]})</pre></div></div></div><div class=\"sk-parallel\"><div class=\"sk-parallel-item\"><div class=\"sk-item\"><div class=\"sk-label-container\"><div class=\"sk-label sk-toggleable\"><input class=\"sk-toggleable__control sk-hidden--visually\" id=\"sk-estimator-id-46\" type=\"checkbox\" ><label for=\"sk-estimator-id-46\" class=\"sk-toggleable__label sk-toggleable__label-arrow\">estimator: GradientBoostingClassifier</label><div class=\"sk-toggleable__content\"><pre>GradientBoostingClassifier()</pre></div></div></div><div class=\"sk-serial\"><div class=\"sk-item\"><div class=\"sk-estimator sk-toggleable\"><input class=\"sk-toggleable__control sk-hidden--visually\" id=\"sk-estimator-id-47\" type=\"checkbox\" ><label for=\"sk-estimator-id-47\" class=\"sk-toggleable__label sk-toggleable__label-arrow\">GradientBoostingClassifier</label><div class=\"sk-toggleable__content\"><pre>GradientBoostingClassifier()</pre></div></div></div></div></div></div></div></div></div></div>"
            ]
          },
          "metadata": {},
          "execution_count": 157
        }
      ]
    },
    {
      "cell_type": "code",
      "source": [
        "#Find best parameters\n",
        "gbr.best_params_"
      ],
      "metadata": {
        "colab": {
          "base_uri": "https://localhost:8080/"
        },
        "id": "MrmkWnyvrfG9",
        "outputId": "63be82c2-b6b0-4fbc-ed54-8928c7fc7815"
      },
      "execution_count": 158,
      "outputs": [
        {
          "output_type": "execute_result",
          "data": {
            "text/plain": [
              "{'learning_rate': 0.01, 'max_depth': 3, 'n_estimators': 500}"
            ]
          },
          "metadata": {},
          "execution_count": 158
        }
      ]
    },
    {
      "cell_type": "code",
      "source": [
        "#Find best parameters\n",
        "gbr.best_score_"
      ],
      "metadata": {
        "colab": {
          "base_uri": "https://localhost:8080/"
        },
        "id": "Vl16jNudrf37",
        "outputId": "987e4bfc-267d-46fd-a21c-a12821dee67d"
      },
      "execution_count": 159,
      "outputs": [
        {
          "output_type": "execute_result",
          "data": {
            "text/plain": [
              "0.8909721776007196"
            ]
          },
          "metadata": {},
          "execution_count": 159
        }
      ]
    },
    {
      "cell_type": "code",
      "source": [
        "###Tight End GB Model###\n",
        "\n",
        "label_encoder = LabelEncoder()\n",
        "final_te_data['Division'] = label_encoder.fit_transform(final_te_data['Division'])\n",
        "final_te_data['Power5'] = label_encoder.fit_transform(final_te_data['Power5'])\n",
        "# Establish X and y dataframes for the model #\n",
        "X_tightend = final_te_data[['Division','Power5','Rec Yds/Rec','Rec Yds/G','Rec TD/G']]\n",
        "y_tightend = final_te_data['Drafted?']\n",
        "# Split the data into a training set (80%) and a testing set (20%)\n",
        "X_train_tightend, X_test_tightend, Y_train_tightend, Y_test_tightend = train_test_split(X_tightend, y_tightend, test_size=0.2, random_state=23)\n",
        "\n"
      ],
      "metadata": {
        "id": "dwapdYHxl5J2"
      },
      "execution_count": 160,
      "outputs": []
    },
    {
      "cell_type": "code",
      "source": [
        "#fit model to training data set\n",
        "model.fit(X_train_tightend,Y_train_tightend)"
      ],
      "metadata": {
        "colab": {
          "base_uri": "https://localhost:8080/",
          "height": 74
        },
        "id": "PjztMh9NuI4F",
        "outputId": "512f586a-a760-473c-f24d-4c9623a3729f"
      },
      "execution_count": 161,
      "outputs": [
        {
          "output_type": "execute_result",
          "data": {
            "text/plain": [
              "GradientBoostingClassifier()"
            ],
            "text/html": [
              "<style>#sk-container-id-24 {color: black;background-color: white;}#sk-container-id-24 pre{padding: 0;}#sk-container-id-24 div.sk-toggleable {background-color: white;}#sk-container-id-24 label.sk-toggleable__label {cursor: pointer;display: block;width: 100%;margin-bottom: 0;padding: 0.3em;box-sizing: border-box;text-align: center;}#sk-container-id-24 label.sk-toggleable__label-arrow:before {content: \"▸\";float: left;margin-right: 0.25em;color: #696969;}#sk-container-id-24 label.sk-toggleable__label-arrow:hover:before {color: black;}#sk-container-id-24 div.sk-estimator:hover label.sk-toggleable__label-arrow:before {color: black;}#sk-container-id-24 div.sk-toggleable__content {max-height: 0;max-width: 0;overflow: hidden;text-align: left;background-color: #f0f8ff;}#sk-container-id-24 div.sk-toggleable__content pre {margin: 0.2em;color: black;border-radius: 0.25em;background-color: #f0f8ff;}#sk-container-id-24 input.sk-toggleable__control:checked~div.sk-toggleable__content {max-height: 200px;max-width: 100%;overflow: auto;}#sk-container-id-24 input.sk-toggleable__control:checked~label.sk-toggleable__label-arrow:before {content: \"▾\";}#sk-container-id-24 div.sk-estimator input.sk-toggleable__control:checked~label.sk-toggleable__label {background-color: #d4ebff;}#sk-container-id-24 div.sk-label input.sk-toggleable__control:checked~label.sk-toggleable__label {background-color: #d4ebff;}#sk-container-id-24 input.sk-hidden--visually {border: 0;clip: rect(1px 1px 1px 1px);clip: rect(1px, 1px, 1px, 1px);height: 1px;margin: -1px;overflow: hidden;padding: 0;position: absolute;width: 1px;}#sk-container-id-24 div.sk-estimator {font-family: monospace;background-color: #f0f8ff;border: 1px dotted black;border-radius: 0.25em;box-sizing: border-box;margin-bottom: 0.5em;}#sk-container-id-24 div.sk-estimator:hover {background-color: #d4ebff;}#sk-container-id-24 div.sk-parallel-item::after {content: \"\";width: 100%;border-bottom: 1px solid gray;flex-grow: 1;}#sk-container-id-24 div.sk-label:hover label.sk-toggleable__label {background-color: #d4ebff;}#sk-container-id-24 div.sk-serial::before {content: \"\";position: absolute;border-left: 1px solid gray;box-sizing: border-box;top: 0;bottom: 0;left: 50%;z-index: 0;}#sk-container-id-24 div.sk-serial {display: flex;flex-direction: column;align-items: center;background-color: white;padding-right: 0.2em;padding-left: 0.2em;position: relative;}#sk-container-id-24 div.sk-item {position: relative;z-index: 1;}#sk-container-id-24 div.sk-parallel {display: flex;align-items: stretch;justify-content: center;background-color: white;position: relative;}#sk-container-id-24 div.sk-item::before, #sk-container-id-24 div.sk-parallel-item::before {content: \"\";position: absolute;border-left: 1px solid gray;box-sizing: border-box;top: 0;bottom: 0;left: 50%;z-index: -1;}#sk-container-id-24 div.sk-parallel-item {display: flex;flex-direction: column;z-index: 1;position: relative;background-color: white;}#sk-container-id-24 div.sk-parallel-item:first-child::after {align-self: flex-end;width: 50%;}#sk-container-id-24 div.sk-parallel-item:last-child::after {align-self: flex-start;width: 50%;}#sk-container-id-24 div.sk-parallel-item:only-child::after {width: 0;}#sk-container-id-24 div.sk-dashed-wrapped {border: 1px dashed gray;margin: 0 0.4em 0.5em 0.4em;box-sizing: border-box;padding-bottom: 0.4em;background-color: white;}#sk-container-id-24 div.sk-label label {font-family: monospace;font-weight: bold;display: inline-block;line-height: 1.2em;}#sk-container-id-24 div.sk-label-container {text-align: center;}#sk-container-id-24 div.sk-container {/* jupyter's `normalize.less` sets `[hidden] { display: none; }` but bootstrap.min.css set `[hidden] { display: none !important; }` so we also need the `!important` here to be able to override the default hidden behavior on the sphinx rendered scikit-learn.org. See: https://github.com/scikit-learn/scikit-learn/issues/21755 */display: inline-block !important;position: relative;}#sk-container-id-24 div.sk-text-repr-fallback {display: none;}</style><div id=\"sk-container-id-24\" class=\"sk-top-container\"><div class=\"sk-text-repr-fallback\"><pre>GradientBoostingClassifier()</pre><b>In a Jupyter environment, please rerun this cell to show the HTML representation or trust the notebook. <br />On GitHub, the HTML representation is unable to render, please try loading this page with nbviewer.org.</b></div><div class=\"sk-container\" hidden><div class=\"sk-item\"><div class=\"sk-estimator sk-toggleable\"><input class=\"sk-toggleable__control sk-hidden--visually\" id=\"sk-estimator-id-48\" type=\"checkbox\" checked><label for=\"sk-estimator-id-48\" class=\"sk-toggleable__label sk-toggleable__label-arrow\">GradientBoostingClassifier</label><div class=\"sk-toggleable__content\"><pre>GradientBoostingClassifier()</pre></div></div></div></div></div>"
            ]
          },
          "metadata": {},
          "execution_count": 161
        }
      ]
    },
    {
      "cell_type": "code",
      "source": [
        "#calculate Cross Validation Accuracy Score\n",
        "cross_val_score(model,X_train_tightend,Y_train_tightend,cv=5, n_jobs = -1).mean()"
      ],
      "metadata": {
        "colab": {
          "base_uri": "https://localhost:8080/"
        },
        "id": "cQvgCpZjuJog",
        "outputId": "1182300a-b42d-4890-9ccc-a7e727084a8f"
      },
      "execution_count": 162,
      "outputs": [
        {
          "output_type": "execute_result",
          "data": {
            "text/plain": [
              "0.6358156028368794"
            ]
          },
          "metadata": {},
          "execution_count": 162
        }
      ]
    },
    {
      "cell_type": "code",
      "source": [
        "#Establish Parameters as this will help us find best numbers to calculate best CV score\n",
        "param_grid = {\n",
        "    'n_estimators':[10,50,100,500],\n",
        "    'learning_rate':[0.0001,.001,.01,.1,1.0],\n",
        "    'max_depth':[3,5,7,9]\n",
        "\n",
        "}"
      ],
      "metadata": {
        "id": "AEP4sUoAuKfd"
      },
      "execution_count": 163,
      "outputs": []
    },
    {
      "cell_type": "code",
      "source": [
        "#Use new parameters with GridSearchCV model\n",
        "gbr = GridSearchCV(model,param_grid,cv=5,n_jobs=-1)"
      ],
      "metadata": {
        "id": "E0yECx78uLeh"
      },
      "execution_count": 164,
      "outputs": []
    },
    {
      "cell_type": "code",
      "source": [
        "#fit the model with the training data\n",
        "gbr.fit(X_train_tightend,Y_train_tightend)"
      ],
      "metadata": {
        "colab": {
          "base_uri": "https://localhost:8080/",
          "height": 116
        },
        "id": "1jREONiAuMPs",
        "outputId": "fed8fca3-3aec-43c6-befd-2f8e457e1af0"
      },
      "execution_count": 168,
      "outputs": [
        {
          "output_type": "execute_result",
          "data": {
            "text/plain": [
              "GridSearchCV(cv=5, estimator=GradientBoostingClassifier(), n_jobs=-1,\n",
              "             param_grid={'learning_rate': [0.0001, 0.001, 0.01, 0.1, 1.0],\n",
              "                         'max_depth': [3, 5, 7, 9],\n",
              "                         'n_estimators': [10, 50, 100, 500]})"
            ],
            "text/html": [
              "<style>#sk-container-id-26 {color: black;background-color: white;}#sk-container-id-26 pre{padding: 0;}#sk-container-id-26 div.sk-toggleable {background-color: white;}#sk-container-id-26 label.sk-toggleable__label {cursor: pointer;display: block;width: 100%;margin-bottom: 0;padding: 0.3em;box-sizing: border-box;text-align: center;}#sk-container-id-26 label.sk-toggleable__label-arrow:before {content: \"▸\";float: left;margin-right: 0.25em;color: #696969;}#sk-container-id-26 label.sk-toggleable__label-arrow:hover:before {color: black;}#sk-container-id-26 div.sk-estimator:hover label.sk-toggleable__label-arrow:before {color: black;}#sk-container-id-26 div.sk-toggleable__content {max-height: 0;max-width: 0;overflow: hidden;text-align: left;background-color: #f0f8ff;}#sk-container-id-26 div.sk-toggleable__content pre {margin: 0.2em;color: black;border-radius: 0.25em;background-color: #f0f8ff;}#sk-container-id-26 input.sk-toggleable__control:checked~div.sk-toggleable__content {max-height: 200px;max-width: 100%;overflow: auto;}#sk-container-id-26 input.sk-toggleable__control:checked~label.sk-toggleable__label-arrow:before {content: \"▾\";}#sk-container-id-26 div.sk-estimator input.sk-toggleable__control:checked~label.sk-toggleable__label {background-color: #d4ebff;}#sk-container-id-26 div.sk-label input.sk-toggleable__control:checked~label.sk-toggleable__label {background-color: #d4ebff;}#sk-container-id-26 input.sk-hidden--visually {border: 0;clip: rect(1px 1px 1px 1px);clip: rect(1px, 1px, 1px, 1px);height: 1px;margin: -1px;overflow: hidden;padding: 0;position: absolute;width: 1px;}#sk-container-id-26 div.sk-estimator {font-family: monospace;background-color: #f0f8ff;border: 1px dotted black;border-radius: 0.25em;box-sizing: border-box;margin-bottom: 0.5em;}#sk-container-id-26 div.sk-estimator:hover {background-color: #d4ebff;}#sk-container-id-26 div.sk-parallel-item::after {content: \"\";width: 100%;border-bottom: 1px solid gray;flex-grow: 1;}#sk-container-id-26 div.sk-label:hover label.sk-toggleable__label {background-color: #d4ebff;}#sk-container-id-26 div.sk-serial::before {content: \"\";position: absolute;border-left: 1px solid gray;box-sizing: border-box;top: 0;bottom: 0;left: 50%;z-index: 0;}#sk-container-id-26 div.sk-serial {display: flex;flex-direction: column;align-items: center;background-color: white;padding-right: 0.2em;padding-left: 0.2em;position: relative;}#sk-container-id-26 div.sk-item {position: relative;z-index: 1;}#sk-container-id-26 div.sk-parallel {display: flex;align-items: stretch;justify-content: center;background-color: white;position: relative;}#sk-container-id-26 div.sk-item::before, #sk-container-id-26 div.sk-parallel-item::before {content: \"\";position: absolute;border-left: 1px solid gray;box-sizing: border-box;top: 0;bottom: 0;left: 50%;z-index: -1;}#sk-container-id-26 div.sk-parallel-item {display: flex;flex-direction: column;z-index: 1;position: relative;background-color: white;}#sk-container-id-26 div.sk-parallel-item:first-child::after {align-self: flex-end;width: 50%;}#sk-container-id-26 div.sk-parallel-item:last-child::after {align-self: flex-start;width: 50%;}#sk-container-id-26 div.sk-parallel-item:only-child::after {width: 0;}#sk-container-id-26 div.sk-dashed-wrapped {border: 1px dashed gray;margin: 0 0.4em 0.5em 0.4em;box-sizing: border-box;padding-bottom: 0.4em;background-color: white;}#sk-container-id-26 div.sk-label label {font-family: monospace;font-weight: bold;display: inline-block;line-height: 1.2em;}#sk-container-id-26 div.sk-label-container {text-align: center;}#sk-container-id-26 div.sk-container {/* jupyter's `normalize.less` sets `[hidden] { display: none; }` but bootstrap.min.css set `[hidden] { display: none !important; }` so we also need the `!important` here to be able to override the default hidden behavior on the sphinx rendered scikit-learn.org. See: https://github.com/scikit-learn/scikit-learn/issues/21755 */display: inline-block !important;position: relative;}#sk-container-id-26 div.sk-text-repr-fallback {display: none;}</style><div id=\"sk-container-id-26\" class=\"sk-top-container\"><div class=\"sk-text-repr-fallback\"><pre>GridSearchCV(cv=5, estimator=GradientBoostingClassifier(), n_jobs=-1,\n",
              "             param_grid={&#x27;learning_rate&#x27;: [0.0001, 0.001, 0.01, 0.1, 1.0],\n",
              "                         &#x27;max_depth&#x27;: [3, 5, 7, 9],\n",
              "                         &#x27;n_estimators&#x27;: [10, 50, 100, 500]})</pre><b>In a Jupyter environment, please rerun this cell to show the HTML representation or trust the notebook. <br />On GitHub, the HTML representation is unable to render, please try loading this page with nbviewer.org.</b></div><div class=\"sk-container\" hidden><div class=\"sk-item sk-dashed-wrapped\"><div class=\"sk-label-container\"><div class=\"sk-label sk-toggleable\"><input class=\"sk-toggleable__control sk-hidden--visually\" id=\"sk-estimator-id-52\" type=\"checkbox\" ><label for=\"sk-estimator-id-52\" class=\"sk-toggleable__label sk-toggleable__label-arrow\">GridSearchCV</label><div class=\"sk-toggleable__content\"><pre>GridSearchCV(cv=5, estimator=GradientBoostingClassifier(), n_jobs=-1,\n",
              "             param_grid={&#x27;learning_rate&#x27;: [0.0001, 0.001, 0.01, 0.1, 1.0],\n",
              "                         &#x27;max_depth&#x27;: [3, 5, 7, 9],\n",
              "                         &#x27;n_estimators&#x27;: [10, 50, 100, 500]})</pre></div></div></div><div class=\"sk-parallel\"><div class=\"sk-parallel-item\"><div class=\"sk-item\"><div class=\"sk-label-container\"><div class=\"sk-label sk-toggleable\"><input class=\"sk-toggleable__control sk-hidden--visually\" id=\"sk-estimator-id-53\" type=\"checkbox\" ><label for=\"sk-estimator-id-53\" class=\"sk-toggleable__label sk-toggleable__label-arrow\">estimator: GradientBoostingClassifier</label><div class=\"sk-toggleable__content\"><pre>GradientBoostingClassifier()</pre></div></div></div><div class=\"sk-serial\"><div class=\"sk-item\"><div class=\"sk-estimator sk-toggleable\"><input class=\"sk-toggleable__control sk-hidden--visually\" id=\"sk-estimator-id-54\" type=\"checkbox\" ><label for=\"sk-estimator-id-54\" class=\"sk-toggleable__label sk-toggleable__label-arrow\">GradientBoostingClassifier</label><div class=\"sk-toggleable__content\"><pre>GradientBoostingClassifier()</pre></div></div></div></div></div></div></div></div></div></div>"
            ]
          },
          "metadata": {},
          "execution_count": 168
        }
      ]
    },
    {
      "cell_type": "code",
      "source": [
        "#Find best parameters\n",
        "gbr.best_params_"
      ],
      "metadata": {
        "colab": {
          "base_uri": "https://localhost:8080/"
        },
        "id": "szuOpPqPuNG7",
        "outputId": "7021d566-d134-4477-df37-1970e3545daf"
      },
      "execution_count": 169,
      "outputs": [
        {
          "output_type": "execute_result",
          "data": {
            "text/plain": [
              "{'learning_rate': 0.1, 'max_depth': 3, 'n_estimators': 10}"
            ]
          },
          "metadata": {},
          "execution_count": 169
        }
      ]
    },
    {
      "cell_type": "code",
      "source": [
        "#Find best parameters\n",
        "gbr.best_score_"
      ],
      "metadata": {
        "colab": {
          "base_uri": "https://localhost:8080/"
        },
        "id": "f2FKNwKauOBf",
        "outputId": "eb44eacf-3621-477c-c8aa-419c428b5eb2"
      },
      "execution_count": 170,
      "outputs": [
        {
          "output_type": "execute_result",
          "data": {
            "text/plain": [
              "0.716223404255319"
            ]
          },
          "metadata": {},
          "execution_count": 170
        }
      ]
    },
    {
      "cell_type": "code",
      "source": [],
      "metadata": {
        "id": "VEvy2n_WuO_v"
      },
      "execution_count": null,
      "outputs": []
    }
  ]
}