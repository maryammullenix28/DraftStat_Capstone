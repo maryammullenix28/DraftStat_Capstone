{
 "cells": [
  {
   "cell_type": "code",
   "execution_count": 1,
   "id": "eb607b48",
   "metadata": {},
   "outputs": [],
   "source": [
    "import pandas as pd\n",
    "import numpy as np\n",
    "import matplotlib.pyplot as plt\n",
    "import seaborn as sns\n",
    "import warnings as wr\n",
    "wr.filterwarnings('ignore')"
   ]
  },
  {
   "cell_type": "code",
   "execution_count": 2,
   "id": "5990f64d",
   "metadata": {},
   "outputs": [],
   "source": [
    "## Data Loading ##\n",
    "nfl_draft_raw = pd.read_csv(r\"../nfl_draft_2014_2024.csv\")\n",
    "college_passing_raw = pd.read_csv(r\"../college_passing_data_v3.csv\")\n",
    "college_rushing_raw = pd.read_csv(r\"../college_rushing_data_v3.csv\")\n",
    "college_receiving_raw = pd.read_csv(r\"../college_receiving_data_v3.csv\")"
   ]
  },
  {
   "cell_type": "markdown",
   "id": "8f46134c",
   "metadata": {},
   "source": [
    "# nfl_draft_2014_2024.csv"
   ]
  },
  {
   "cell_type": "code",
   "execution_count": 3,
   "id": "a80bf347",
   "metadata": {},
   "outputs": [
    {
     "name": "stdout",
     "output_type": "stream",
     "text": [
      "   DraftYear  Rnd  Pick   Tm           Player Pos   Age      To  AP1  PB  ...  \\\n",
      "0       2019    2    51  TEN       A.J. Brown  WR  22.0  2023.0    0   3  ...   \n",
      "1       2024    1     5  LAC          Joe Alt  OL  21.0     NaN    0   0  ...   \n",
      "2       2023    6   195  NOR       A.T. Perry  WR  23.0  2023.0    0   0  ...   \n",
      "3       2024    1     7  TEN        JC Latham  OL  21.0     NaN    0   0  ...   \n",
      "4       2016    6   213  SFO  Aaron Burbridge  WR  22.0  2016.0    0   0  ...   \n",
      "\n",
      "   RusAtt  RusYds  RusTD    Rec  RecYds  RecTD  Solo  DefInt  Sk  College/Univ  \n",
      "0     5.0    70.0    1.0  379.0  5947.0   42.0   4.0     NaN NaN   Mississippi  \n",
      "1     NaN     NaN    NaN    NaN     NaN    NaN   NaN     NaN NaN    Notre Dame  \n",
      "2     0.0     0.0    0.0   12.0   246.0    4.0   NaN     NaN NaN   Wake Forest  \n",
      "3     NaN     NaN    NaN    NaN     NaN    NaN   NaN     NaN NaN       Alabama  \n",
      "4     0.0     0.0    0.0    7.0    88.0    0.0   9.0     NaN NaN  Michigan St.  \n",
      "\n",
      "[5 rows x 29 columns]\n"
     ]
    }
   ],
   "source": [
    "print(nfl_draft_raw.head())"
   ]
  },
  {
   "cell_type": "code",
   "execution_count": 4,
   "id": "5b955978",
   "metadata": {},
   "outputs": [
    {
     "name": "stdout",
     "output_type": "stream",
     "text": [
      "<class 'pandas.core.frame.DataFrame'>\n",
      "RangeIndex: 2778 entries, 0 to 2777\n",
      "Data columns (total 29 columns):\n",
      " #   Column        Non-Null Count  Dtype  \n",
      "---  ------        --------------  -----  \n",
      " 0   DraftYear     2778 non-null   int64  \n",
      " 1   Rnd           2778 non-null   int64  \n",
      " 2   Pick          2778 non-null   int64  \n",
      " 3   Tm            2778 non-null   object \n",
      " 4   Player        2778 non-null   object \n",
      " 5   Pos           2778 non-null   object \n",
      " 6   Age           2662 non-null   float64\n",
      " 7   To            2337 non-null   float64\n",
      " 8   AP1           2778 non-null   int64  \n",
      " 9   PB            2778 non-null   int64  \n",
      " 10  St            2778 non-null   int64  \n",
      " 11  wAV           2337 non-null   float64\n",
      " 12  DrAV          2212 non-null   float64\n",
      " 13  G             2337 non-null   float64\n",
      " 14  Cmp           2337 non-null   float64\n",
      " 15  PasAtt        2337 non-null   float64\n",
      " 16  PasYds        2337 non-null   float64\n",
      " 17  PasTD         2337 non-null   float64\n",
      " 18  Int           2337 non-null   float64\n",
      " 19  RusAtt        2337 non-null   float64\n",
      " 20  RusYds        2337 non-null   float64\n",
      " 21  RusTD         2337 non-null   float64\n",
      " 22  Rec           2337 non-null   float64\n",
      " 23  RecYds        2337 non-null   float64\n",
      " 24  RecTD         2337 non-null   float64\n",
      " 25  Solo          1669 non-null   float64\n",
      " 26  DefInt        492 non-null    float64\n",
      " 27  Sk            720 non-null    float64\n",
      " 28  College/Univ  2765 non-null   object \n",
      "dtypes: float64(19), int64(6), object(4)\n",
      "memory usage: 629.5+ KB\n"
     ]
    }
   ],
   "source": [
    "nfl_draft_raw.info()"
   ]
  },
  {
   "cell_type": "code",
   "execution_count": 5,
   "id": "c3b211f1",
   "metadata": {},
   "outputs": [
    {
     "data": {
      "text/plain": [
       "DraftYear          0\n",
       "Rnd                0\n",
       "Pick               0\n",
       "Tm                 0\n",
       "Player             0\n",
       "Pos                0\n",
       "Age              116\n",
       "To               441\n",
       "AP1                0\n",
       "PB                 0\n",
       "St                 0\n",
       "wAV              441\n",
       "DrAV             566\n",
       "G                441\n",
       "Cmp              441\n",
       "PasAtt           441\n",
       "PasYds           441\n",
       "PasTD            441\n",
       "Int              441\n",
       "RusAtt           441\n",
       "RusYds           441\n",
       "RusTD            441\n",
       "Rec              441\n",
       "RecYds           441\n",
       "RecTD            441\n",
       "Solo            1109\n",
       "DefInt          2286\n",
       "Sk              2058\n",
       "College/Univ      13\n",
       "dtype: int64"
      ]
     },
     "execution_count": 5,
     "metadata": {},
     "output_type": "execute_result"
    }
   ],
   "source": [
    "## Check missing values\n",
    "nfl_draft_raw.isnull().sum()"
   ]
  },
  {
   "cell_type": "code",
   "execution_count": 20,
   "id": "e0780c51",
   "metadata": {},
   "outputs": [
    {
     "data": {
      "text/html": [
       "<div>\n",
       "<style scoped>\n",
       "    .dataframe tbody tr th:only-of-type {\n",
       "        vertical-align: middle;\n",
       "    }\n",
       "\n",
       "    .dataframe tbody tr th {\n",
       "        vertical-align: top;\n",
       "    }\n",
       "\n",
       "    .dataframe thead th {\n",
       "        text-align: right;\n",
       "    }\n",
       "</style>\n",
       "<table border=\"1\" class=\"dataframe\">\n",
       "  <thead>\n",
       "    <tr style=\"text-align: right;\">\n",
       "      <th></th>\n",
       "      <th>DraftYear</th>\n",
       "      <th>Pick</th>\n",
       "      <th>counts</th>\n",
       "    </tr>\n",
       "  </thead>\n",
       "  <tbody>\n",
       "    <tr>\n",
       "      <th>0</th>\n",
       "      <td>2014</td>\n",
       "      <td>1</td>\n",
       "      <td>1</td>\n",
       "    </tr>\n",
       "    <tr>\n",
       "      <th>1</th>\n",
       "      <td>2014</td>\n",
       "      <td>2</td>\n",
       "      <td>1</td>\n",
       "    </tr>\n",
       "    <tr>\n",
       "      <th>2</th>\n",
       "      <td>2014</td>\n",
       "      <td>3</td>\n",
       "      <td>1</td>\n",
       "    </tr>\n",
       "    <tr>\n",
       "      <th>3</th>\n",
       "      <td>2014</td>\n",
       "      <td>4</td>\n",
       "      <td>1</td>\n",
       "    </tr>\n",
       "    <tr>\n",
       "      <th>4</th>\n",
       "      <td>2014</td>\n",
       "      <td>5</td>\n",
       "      <td>1</td>\n",
       "    </tr>\n",
       "    <tr>\n",
       "      <th>...</th>\n",
       "      <td>...</td>\n",
       "      <td>...</td>\n",
       "      <td>...</td>\n",
       "    </tr>\n",
       "    <tr>\n",
       "      <th>2773</th>\n",
       "      <td>2024</td>\n",
       "      <td>253</td>\n",
       "      <td>1</td>\n",
       "    </tr>\n",
       "    <tr>\n",
       "      <th>2774</th>\n",
       "      <td>2024</td>\n",
       "      <td>254</td>\n",
       "      <td>1</td>\n",
       "    </tr>\n",
       "    <tr>\n",
       "      <th>2775</th>\n",
       "      <td>2024</td>\n",
       "      <td>255</td>\n",
       "      <td>1</td>\n",
       "    </tr>\n",
       "    <tr>\n",
       "      <th>2776</th>\n",
       "      <td>2024</td>\n",
       "      <td>256</td>\n",
       "      <td>1</td>\n",
       "    </tr>\n",
       "    <tr>\n",
       "      <th>2777</th>\n",
       "      <td>2024</td>\n",
       "      <td>257</td>\n",
       "      <td>1</td>\n",
       "    </tr>\n",
       "  </tbody>\n",
       "</table>\n",
       "<p>2778 rows × 3 columns</p>\n",
       "</div>"
      ],
      "text/plain": [
       "      DraftYear  Pick  counts\n",
       "0          2014     1       1\n",
       "1          2014     2       1\n",
       "2          2014     3       1\n",
       "3          2014     4       1\n",
       "4          2014     5       1\n",
       "...         ...   ...     ...\n",
       "2773       2024   253       1\n",
       "2774       2024   254       1\n",
       "2775       2024   255       1\n",
       "2776       2024   256       1\n",
       "2777       2024   257       1\n",
       "\n",
       "[2778 rows x 3 columns]"
      ]
     },
     "metadata": {},
     "output_type": "display_data"
    }
   ],
   "source": [
    "#new_nfl_draft = nfl_draft_raw.groupby(['DraftYear','Pick']).size()\n",
    "df_gb = nfl_draft_raw.groupby(['DraftYear','Pick']).size().reset_index(name='counts')\n",
    "display(df_gb)"
   ]
  },
  {
   "cell_type": "code",
   "execution_count": 21,
   "id": "14a24bce",
   "metadata": {},
   "outputs": [
    {
     "data": {
      "text/html": [
       "<div>\n",
       "<style scoped>\n",
       "    .dataframe tbody tr th:only-of-type {\n",
       "        vertical-align: middle;\n",
       "    }\n",
       "\n",
       "    .dataframe tbody tr th {\n",
       "        vertical-align: top;\n",
       "    }\n",
       "\n",
       "    .dataframe thead th {\n",
       "        text-align: right;\n",
       "    }\n",
       "</style>\n",
       "<table border=\"1\" class=\"dataframe\">\n",
       "  <thead>\n",
       "    <tr style=\"text-align: right;\">\n",
       "      <th></th>\n",
       "      <th>DraftYear</th>\n",
       "      <th>counts</th>\n",
       "    </tr>\n",
       "  </thead>\n",
       "  <tbody>\n",
       "    <tr>\n",
       "      <th>0</th>\n",
       "      <td>2014</td>\n",
       "      <td>251</td>\n",
       "    </tr>\n",
       "    <tr>\n",
       "      <th>1</th>\n",
       "      <td>2015</td>\n",
       "      <td>250</td>\n",
       "    </tr>\n",
       "    <tr>\n",
       "      <th>2</th>\n",
       "      <td>2016</td>\n",
       "      <td>247</td>\n",
       "    </tr>\n",
       "    <tr>\n",
       "      <th>3</th>\n",
       "      <td>2017</td>\n",
       "      <td>249</td>\n",
       "    </tr>\n",
       "    <tr>\n",
       "      <th>4</th>\n",
       "      <td>2018</td>\n",
       "      <td>251</td>\n",
       "    </tr>\n",
       "    <tr>\n",
       "      <th>5</th>\n",
       "      <td>2019</td>\n",
       "      <td>250</td>\n",
       "    </tr>\n",
       "    <tr>\n",
       "      <th>6</th>\n",
       "      <td>2020</td>\n",
       "      <td>252</td>\n",
       "    </tr>\n",
       "    <tr>\n",
       "      <th>7</th>\n",
       "      <td>2021</td>\n",
       "      <td>256</td>\n",
       "    </tr>\n",
       "    <tr>\n",
       "      <th>8</th>\n",
       "      <td>2022</td>\n",
       "      <td>261</td>\n",
       "    </tr>\n",
       "    <tr>\n",
       "      <th>9</th>\n",
       "      <td>2023</td>\n",
       "      <td>255</td>\n",
       "    </tr>\n",
       "    <tr>\n",
       "      <th>10</th>\n",
       "      <td>2024</td>\n",
       "      <td>256</td>\n",
       "    </tr>\n",
       "  </tbody>\n",
       "</table>\n",
       "</div>"
      ],
      "text/plain": [
       "    DraftYear  counts\n",
       "0        2014     251\n",
       "1        2015     250\n",
       "2        2016     247\n",
       "3        2017     249\n",
       "4        2018     251\n",
       "5        2019     250\n",
       "6        2020     252\n",
       "7        2021     256\n",
       "8        2022     261\n",
       "9        2023     255\n",
       "10       2024     256"
      ]
     },
     "metadata": {},
     "output_type": "display_data"
    }
   ],
   "source": [
    "df2 = df_gb.groupby(['DraftYear'],as_index=False).agg({'counts': 'sum'})"
   ]
  },
  {
   "cell_type": "code",
   "execution_count": 45,
   "id": "e297c60e",
   "metadata": {},
   "outputs": [
    {
     "data": {
      "image/png": "[encoded data removed]",
      "text/plain": [
       "<Figure size 864x360 with 1 Axes>"
      ]
     },
     "metadata": {
      "needs_background": "light"
     },
     "output_type": "display_data"
    }
   ],
   "source": [
    "# The number of draft picks per year from 2014 to 2024\n",
    "df2.plot(kind = 'line', x = 'DraftYear', y = 'counts', figsize=(12, 5))\n",
    "plt.show()"
   ]
  },
  {
   "cell_type": "markdown",
   "id": "7c7838f2",
   "metadata": {},
   "source": [
    "# college_passing_data_v3.csv\n",
    "# college_receiving_data_v3.csv\n",
    "# college_rusing_data_v3.csv"
   ]
  },
  {
   "cell_type": "code",
   "execution_count": 27,
   "id": "0d594c56",
   "metadata": {},
   "outputs": [],
   "source": [
    "df_merged = college_passing_raw.append(college_receiving_raw, ignore_index=True)"
   ]
  },
  {
   "cell_type": "code",
   "execution_count": 28,
   "id": "2413cc71",
   "metadata": {},
   "outputs": [],
   "source": [
    "df_merged2 = df_merged.append(college_rushing_raw, ignore_index=True)"
   ]
  },
  {
   "cell_type": "code",
   "execution_count": 29,
   "id": "f28faa30",
   "metadata": {},
   "outputs": [
    {
     "data": {
      "text/plain": [
       "Season           0\n",
       "Rank           162\n",
       "Player           0\n",
       "School           0\n",
       "Power5           0\n",
       "Conference       0\n",
       "Division         0\n",
       "Cl               0\n",
       "Pos             80\n",
       "G                0\n",
       "Pass Att      9127\n",
       "Pass Com      9127\n",
       "Int           9127\n",
       "Pass TD       9127\n",
       "Pass Yds      9127\n",
       "Rec           7637\n",
       "Rec Yds       7637\n",
       "Rec TD        7637\n",
       "Rush          7550\n",
       "Rush TD       7550\n",
       "Rush Yds      7550\n",
       "dtype: int64"
      ]
     },
     "execution_count": 29,
     "metadata": {},
     "output_type": "execute_result"
    }
   ],
   "source": [
    "## Check missing values\n",
    "df_merged2.isnull().sum()"
   ]
  },
  {
   "cell_type": "code",
   "execution_count": 30,
   "id": "e1034ca8",
   "metadata": {},
   "outputs": [
    {
     "data": {
      "text/html": [
       "<div>\n",
       "<style scoped>\n",
       "    .dataframe tbody tr th:only-of-type {\n",
       "        vertical-align: middle;\n",
       "    }\n",
       "\n",
       "    .dataframe tbody tr th {\n",
       "        vertical-align: top;\n",
       "    }\n",
       "\n",
       "    .dataframe thead th {\n",
       "        text-align: right;\n",
       "    }\n",
       "</style>\n",
       "<table border=\"1\" class=\"dataframe\">\n",
       "  <thead>\n",
       "    <tr style=\"text-align: right;\">\n",
       "      <th></th>\n",
       "      <th>Season</th>\n",
       "      <th>Rank</th>\n",
       "      <th>G</th>\n",
       "      <th>Pass Att</th>\n",
       "      <th>Pass Com</th>\n",
       "      <th>Int</th>\n",
       "      <th>Pass TD</th>\n",
       "      <th>Pass Yds</th>\n",
       "      <th>Rec</th>\n",
       "      <th>Rec Yds</th>\n",
       "      <th>Rec TD</th>\n",
       "      <th>Rush</th>\n",
       "      <th>Rush TD</th>\n",
       "      <th>Rush Yds</th>\n",
       "    </tr>\n",
       "  </thead>\n",
       "  <tbody>\n",
       "    <tr>\n",
       "      <th>count</th>\n",
       "      <td>12157.000000</td>\n",
       "      <td>11995.000000</td>\n",
       "      <td>12157.000000</td>\n",
       "      <td>3030.000000</td>\n",
       "      <td>3030.000000</td>\n",
       "      <td>3030.000000</td>\n",
       "      <td>3030.000000</td>\n",
       "      <td>3030.000000</td>\n",
       "      <td>4520.000000</td>\n",
       "      <td>4520.000000</td>\n",
       "      <td>4520.000000</td>\n",
       "      <td>4607.000000</td>\n",
       "      <td>4607.000000</td>\n",
       "      <td>4607.000000</td>\n",
       "    </tr>\n",
       "    <tr>\n",
       "      <th>mean</th>\n",
       "      <td>2017.741384</td>\n",
       "      <td>99.129054</td>\n",
       "      <td>11.231718</td>\n",
       "      <td>261.984488</td>\n",
       "      <td>157.906601</td>\n",
       "      <td>6.964686</td>\n",
       "      <td>14.252145</td>\n",
       "      <td>1941.168977</td>\n",
       "      <td>49.558850</td>\n",
       "      <td>696.131858</td>\n",
       "      <td>5.399336</td>\n",
       "      <td>140.237031</td>\n",
       "      <td>7.066204</td>\n",
       "      <td>734.390927</td>\n",
       "    </tr>\n",
       "    <tr>\n",
       "      <th>std</th>\n",
       "      <td>3.271962</td>\n",
       "      <td>68.807207</td>\n",
       "      <td>2.099966</td>\n",
       "      <td>133.932033</td>\n",
       "      <td>86.975429</td>\n",
       "      <td>3.914370</td>\n",
       "      <td>9.603520</td>\n",
       "      <td>1079.359539</td>\n",
       "      <td>18.638573</td>\n",
       "      <td>263.069934</td>\n",
       "      <td>3.287513</td>\n",
       "      <td>55.564554</td>\n",
       "      <td>4.491871</td>\n",
       "      <td>325.078583</td>\n",
       "    </tr>\n",
       "    <tr>\n",
       "      <th>min</th>\n",
       "      <td>2013.000000</td>\n",
       "      <td>1.000000</td>\n",
       "      <td>1.000000</td>\n",
       "      <td>1.000000</td>\n",
       "      <td>1.000000</td>\n",
       "      <td>0.000000</td>\n",
       "      <td>0.000000</td>\n",
       "      <td>-3.000000</td>\n",
       "      <td>1.000000</td>\n",
       "      <td>15.000000</td>\n",
       "      <td>0.000000</td>\n",
       "      <td>15.000000</td>\n",
       "      <td>0.000000</td>\n",
       "      <td>143.000000</td>\n",
       "    </tr>\n",
       "    <tr>\n",
       "      <th>25%</th>\n",
       "      <td>2015.000000</td>\n",
       "      <td>46.000000</td>\n",
       "      <td>10.000000</td>\n",
       "      <td>172.000000</td>\n",
       "      <td>96.000000</td>\n",
       "      <td>4.000000</td>\n",
       "      <td>7.000000</td>\n",
       "      <td>1181.000000</td>\n",
       "      <td>37.000000</td>\n",
       "      <td>539.000000</td>\n",
       "      <td>3.000000</td>\n",
       "      <td>101.000000</td>\n",
       "      <td>4.000000</td>\n",
       "      <td>509.000000</td>\n",
       "    </tr>\n",
       "    <tr>\n",
       "      <th>50%</th>\n",
       "      <td>2018.000000</td>\n",
       "      <td>91.000000</td>\n",
       "      <td>12.000000</td>\n",
       "      <td>272.000000</td>\n",
       "      <td>159.000000</td>\n",
       "      <td>7.000000</td>\n",
       "      <td>13.000000</td>\n",
       "      <td>1944.500000</td>\n",
       "      <td>47.000000</td>\n",
       "      <td>655.000000</td>\n",
       "      <td>5.000000</td>\n",
       "      <td>132.000000</td>\n",
       "      <td>6.000000</td>\n",
       "      <td>655.000000</td>\n",
       "    </tr>\n",
       "    <tr>\n",
       "      <th>75%</th>\n",
       "      <td>2021.000000</td>\n",
       "      <td>138.000000</td>\n",
       "      <td>13.000000</td>\n",
       "      <td>358.000000</td>\n",
       "      <td>220.000000</td>\n",
       "      <td>10.000000</td>\n",
       "      <td>20.000000</td>\n",
       "      <td>2694.750000</td>\n",
       "      <td>60.000000</td>\n",
       "      <td>833.000000</td>\n",
       "      <td>7.000000</td>\n",
       "      <td>170.000000</td>\n",
       "      <td>9.000000</td>\n",
       "      <td>890.000000</td>\n",
       "    </tr>\n",
       "    <tr>\n",
       "      <th>max</th>\n",
       "      <td>2024.000000</td>\n",
       "      <td>400.000000</td>\n",
       "      <td>16.000000</td>\n",
       "      <td>714.000000</td>\n",
       "      <td>505.000000</td>\n",
       "      <td>32.000000</td>\n",
       "      <td>62.000000</td>\n",
       "      <td>5967.000000</td>\n",
       "      <td>158.000000</td>\n",
       "      <td>1902.000000</td>\n",
       "      <td>24.000000</td>\n",
       "      <td>413.000000</td>\n",
       "      <td>41.000000</td>\n",
       "      <td>2587.000000</td>\n",
       "    </tr>\n",
       "  </tbody>\n",
       "</table>\n",
       "</div>"
      ],
      "text/plain": [
       "             Season          Rank             G     Pass Att     Pass Com  \\\n",
       "count  12157.000000  11995.000000  12157.000000  3030.000000  3030.000000   \n",
       "mean    2017.741384     99.129054     11.231718   261.984488   157.906601   \n",
       "std        3.271962     68.807207      2.099966   133.932033    86.975429   \n",
       "min     2013.000000      1.000000      1.000000     1.000000     1.000000   \n",
       "25%     2015.000000     46.000000     10.000000   172.000000    96.000000   \n",
       "50%     2018.000000     91.000000     12.000000   272.000000   159.000000   \n",
       "75%     2021.000000    138.000000     13.000000   358.000000   220.000000   \n",
       "max     2024.000000    400.000000     16.000000   714.000000   505.000000   \n",
       "\n",
       "               Int      Pass TD     Pass Yds          Rec      Rec Yds  \\\n",
       "count  3030.000000  3030.000000  3030.000000  4520.000000  4520.000000   \n",
       "mean      6.964686    14.252145  1941.168977    49.558850   696.131858   \n",
       "std       3.914370     9.603520  1079.359539    18.638573   263.069934   \n",
       "min       0.000000     0.000000    -3.000000     1.000000    15.000000   \n",
       "25%       4.000000     7.000000  1181.000000    37.000000   539.000000   \n",
       "50%       7.000000    13.000000  1944.500000    47.000000   655.000000   \n",
       "75%      10.000000    20.000000  2694.750000    60.000000   833.000000   \n",
       "max      32.000000    62.000000  5967.000000   158.000000  1902.000000   \n",
       "\n",
       "            Rec TD         Rush      Rush TD     Rush Yds  \n",
       "count  4520.000000  4607.000000  4607.000000  4607.000000  \n",
       "mean      5.399336   140.237031     7.066204   734.390927  \n",
       "std       3.287513    55.564554     4.491871   325.078583  \n",
       "min       0.000000    15.000000     0.000000   143.000000  \n",
       "25%       3.000000   101.000000     4.000000   509.000000  \n",
       "50%       5.000000   132.000000     6.000000   655.000000  \n",
       "75%       7.000000   170.000000     9.000000   890.000000  \n",
       "max      24.000000   413.000000    41.000000  2587.000000  "
      ]
     },
     "execution_count": 30,
     "metadata": {},
     "output_type": "execute_result"
    }
   ],
   "source": [
    "df_merged2.describe()"
   ]
  },
  {
   "cell_type": "code",
   "execution_count": 32,
   "id": "c04bde64",
   "metadata": {},
   "outputs": [],
   "source": [
    "df_gb = df_merged2.groupby(['Pos']).size()"
   ]
  },
  {
   "cell_type": "code",
   "execution_count": 46,
   "id": "faab9d81",
   "metadata": {},
   "outputs": [
    {
     "data": {
      "text/plain": [
       "<AxesSubplot:xlabel='Pos'>"
      ]
     },
     "execution_count": 46,
     "metadata": {},
     "output_type": "execute_result"
    },
    {
     "data": {
      "image/png": "[encoded data removed]",
      "text/plain": [
       "<Figure size 864x360 with 1 Axes>"
      ]
     },
     "metadata": {
      "needs_background": "light"
     },
     "output_type": "display_data"
    }
   ],
   "source": [
    "df_gb.plot(kind = 'bar', figsize=(12, 5))"
   ]
  },
  {
   "cell_type": "code",
   "execution_count": null,
   "id": "4a23123f",
   "metadata": {},
   "outputs": [],
   "source": [
    "# Number of entries per conference"
   ]
  },
  {
   "cell_type": "code",
   "execution_count": 52,
   "id": "adf0b3c4",
   "metadata": {},
   "outputs": [
    {
     "data": {
      "text/plain": [
       "<AxesSubplot:xlabel='Conference'>"
      ]
     },
     "execution_count": 52,
     "metadata": {},
     "output_type": "execute_result"
    },
    {
     "data": {
      "image/png": "[encoded data removed]",
      "text/plain": [
       "<Figure size 1800x648 with 1 Axes>"
      ]
     },
     "metadata": {
      "needs_background": "light"
     },
     "output_type": "display_data"
    }
   ],
   "source": [
    "df_conf = df_merged2.groupby(['Conference']).size()\n",
    "df_conf.plot(kind = 'bar', figsize=(25, 9))"
   ]
  },
  {
   "cell_type": "code",
   "execution_count": null,
   "id": "4518a038",
   "metadata": {},
   "outputs": [],
   "source": []
  },
  {
   "cell_type": "code",
   "execution_count": null,
   "id": "0321d075",
   "metadata": {},
   "outputs": [],
   "source": []
  },
  {
   "cell_type": "code",
   "execution_count": null,
   "id": "cd8b4f42",
   "metadata": {},
   "outputs": [],
   "source": []
  },
  {
   "cell_type": "code",
   "execution_count": null,
   "id": "f7351b4b",
   "metadata": {},
   "outputs": [],
   "source": []
  },
  {
   "cell_type": "code",
   "execution_count": null,
   "id": "78c8093f",
   "metadata": {},
   "outputs": [],
   "source": []
  },
  {
   "cell_type": "code",
   "execution_count": null,
   "id": "d027b6fc",
   "metadata": {},
   "outputs": [],
   "source": []
  },
  {
   "cell_type": "code",
   "execution_count": null,
   "id": "bdf5b50d",
   "metadata": {},
   "outputs": [],
   "source": []
  },
  {
   "cell_type": "code",
   "execution_count": null,
   "id": "7224488d",
   "metadata": {},
   "outputs": [],
   "source": []
  },
  {
   "cell_type": "code",
   "execution_count": null,
   "id": "8136a3bf",
   "metadata": {},
   "outputs": [],
   "source": []
  },
  {
   "cell_type": "code",
   "execution_count": null,
   "id": "b7e62b4c",
   "metadata": {},
   "outputs": [],
   "source": []
  },
  {
   "cell_type": "code",
   "execution_count": null,
   "id": "3d29eb1a",
   "metadata": {},
   "outputs": [],
   "source": []
  },
  {
   "cell_type": "code",
   "execution_count": null,
   "id": "46b8e320",
   "metadata": {},
   "outputs": [],
   "source": []
  },
  {
   "cell_type": "code",
   "execution_count": null,
   "id": "9dbb0f0c",
   "metadata": {},
   "outputs": [],
   "source": []
  },
  {
   "cell_type": "code",
   "execution_count": null,
   "id": "1b146b55",
   "metadata": {},
   "outputs": [],
   "source": []
  },
  {
   "cell_type": "code",
   "execution_count": null,
   "id": "cb3ab17d",
   "metadata": {},
   "outputs": [],
   "source": []
  },
  {
   "cell_type": "code",
   "execution_count": null,
   "id": "ca08d1f6",
   "metadata": {},
   "outputs": [],
   "source": []
  },
  {
   "cell_type": "code",
   "execution_count": null,
   "id": "2b3a7c84",
   "metadata": {},
   "outputs": [],
   "source": []
  },
  {
   "cell_type": "code",
   "execution_count": null,
   "id": "85e4ffce",
   "metadata": {},
   "outputs": [],
   "source": []
  },
  {
   "cell_type": "code",
   "execution_count": null,
   "id": "b40059fe",
   "metadata": {},
   "outputs": [],
   "source": []
  },
  {
   "cell_type": "code",
   "execution_count": null,
   "id": "734c45f5",
   "metadata": {},
   "outputs": [],
   "source": []
  },
  {
   "cell_type": "code",
   "execution_count": null,
   "id": "0b949bf8",
   "metadata": {},
   "outputs": [],
   "source": []
  },
  {
   "cell_type": "code",
   "execution_count": null,
   "id": "0f9b12fc",
   "metadata": {},
   "outputs": [],
   "source": []
  },
  {
   "cell_type": "code",
   "execution_count": null,
   "id": "396a451e",
   "metadata": {},
   "outputs": [],
   "source": []
  },
  {
   "cell_type": "code",
   "execution_count": null,
   "id": "d287981f",
   "metadata": {},
   "outputs": [],
   "source": []
  },
  {
   "cell_type": "code",
   "execution_count": null,
   "id": "ff9c5728",
   "metadata": {},
   "outputs": [],
   "source": []
  },
  {
   "cell_type": "code",
   "execution_count": null,
   "id": "2ee0a0ff",
   "metadata": {},
   "outputs": [],
   "source": []
  },
  {
   "cell_type": "code",
   "execution_count": null,
   "id": "151b6155",
   "metadata": {},
   "outputs": [],
   "source": []
  },
  {
   "cell_type": "code",
   "execution_count": null,
   "id": "9a4dbad0",
   "metadata": {},
   "outputs": [],
   "source": []
  },
  {
   "cell_type": "code",
   "execution_count": null,
   "id": "263d2e01",
   "metadata": {},
   "outputs": [],
   "source": []
  },
  {
   "cell_type": "code",
   "execution_count": null,
   "id": "df511b0f",
   "metadata": {},
   "outputs": [],
   "source": []
  },
  {
   "cell_type": "code",
   "execution_count": null,
   "id": "af83551c",
   "metadata": {},
   "outputs": [],
   "source": []
  },
  {
   "cell_type": "code",
   "execution_count": null,
   "id": "9d2280bd",
   "metadata": {},
   "outputs": [],
   "source": []
  },
  {
   "cell_type": "code",
   "execution_count": null,
   "id": "1e068ec8",
   "metadata": {},
   "outputs": [],
   "source": []
  },
  {
   "cell_type": "code",
   "execution_count": null,
   "id": "8657ded9",
   "metadata": {},
   "outputs": [],
   "source": []
  }
 ],
 "metadata": {
  "kernelspec": {
   "display_name": "Python 3 (ipykernel)",
   "language": "python",
   "name": "python3"
  },
  "language_info": {
   "codemirror_mode": {
    "name": "ipython",
    "version": 3
   },
   "file_extension": ".py",
   "mimetype": "text/x-python",
   "name": "python",
   "nbconvert_exporter": "python",
   "pygments_lexer": "ipython3",
   "version": "3.9.7"
  }
 },
 "nbformat": 4,
 "nbformat_minor": 5
}
